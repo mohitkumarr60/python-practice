{
  "cells": [
    {
      "cell_type": "markdown",
      "metadata": {
        "id": "view-in-github",
        "colab_type": "text"
      },
      "source": [
        "<a href=\"https://colab.research.google.com/github/mohitkumarr60/python-practice/blob/main/day2.ipynb\" target=\"_parent\"><img src=\"https://colab.research.google.com/assets/colab-badge.svg\" alt=\"Open In Colab\"/></a>"
      ]
    },
    {
      "cell_type": "markdown",
      "metadata": {
        "id": "qaRA3AVkTfiI"
      },
      "source": [
        "List"
      ]
    },
    {
      "cell_type": "code",
      "execution_count": null,
      "metadata": {
        "colab": {
          "base_uri": "https://localhost:8080/"
        },
        "id": "W7pkqSCnThav",
        "outputId": "be9763ef-197a-43d8-8cfc-915b4d09ca21"
      },
      "outputs": [
        {
          "name": "stdout",
          "output_type": "stream",
          "text": [
            "<class 'list'>\n"
          ]
        }
      ],
      "source": [
        "l1= [4,6,\"mohit\",34.6]\n",
        "print(type(l1))"
      ]
    },
    {
      "cell_type": "code",
      "execution_count": null,
      "metadata": {
        "colab": {
          "base_uri": "https://localhost:8080/"
        },
        "id": "k8KWb2bfT7b4",
        "outputId": "ddbbdc66-69c4-4672-8c6d-3d93a207553c"
      },
      "outputs": [
        {
          "name": "stdout",
          "output_type": "stream",
          "text": [
            "mohit\n"
          ]
        }
      ],
      "source": [
        "print(l1[2])"
      ]
    },
    {
      "cell_type": "code",
      "execution_count": null,
      "metadata": {
        "id": "Ifui6J7GT_qn"
      },
      "outputs": [],
      "source": [
        "# print(l1[56]) gives error because list length is 4 and index 56 is not available"
      ]
    },
    {
      "cell_type": "code",
      "execution_count": null,
      "metadata": {
        "colab": {
          "base_uri": "https://localhost:8080/"
        },
        "id": "8ZLFN_naUSHm",
        "outputId": "e7744628-ac30-49a7-9f1a-8b525e00dff7"
      },
      "outputs": [
        {
          "name": "stdout",
          "output_type": "stream",
          "text": [
            "<class 'list'>\n"
          ]
        }
      ],
      "source": [
        "li=[] #empty list\n",
        "print(type(li))"
      ]
    },
    {
      "cell_type": "code",
      "execution_count": null,
      "metadata": {
        "colab": {
          "base_uri": "https://localhost:8080/"
        },
        "id": "Ps9f1nhCUhWm",
        "outputId": "2ff15852-b2b0-4604-a390-b71b56164370"
      },
      "outputs": [
        {
          "name": "stdout",
          "output_type": "stream",
          "text": [
            "[6, 6, 'mohit', 34.6]\n"
          ]
        }
      ],
      "source": [
        "l1[0]=6  #lists are mutable\n",
        "print(l1)"
      ]
    },
    {
      "cell_type": "code",
      "execution_count": null,
      "metadata": {
        "colab": {
          "base_uri": "https://localhost:8080/"
        },
        "id": "17m84WoNUpkf",
        "outputId": "44b87f69-92b4-4b98-8b4c-2f90a8cea7c2"
      },
      "outputs": [
        {
          "name": "stdout",
          "output_type": "stream",
          "text": [
            "[2, 23, 37, 48, 58, 65, 86, 98]\n"
          ]
        }
      ],
      "source": [
        "#list functions\n",
        "a=[65,86,2,48,37,58,98,23]\n",
        "a.sort() #to sort a list\n",
        "print(a)"
      ]
    },
    {
      "cell_type": "code",
      "execution_count": null,
      "metadata": {
        "colab": {
          "base_uri": "https://localhost:8080/"
        },
        "id": "mH1DL84NU5U4",
        "outputId": "87786be3-21a2-4941-c20d-e89e7346525d"
      },
      "outputs": [
        {
          "name": "stdout",
          "output_type": "stream",
          "text": [
            "[98, 86, 65, 58, 48, 37, 23, 2]\n"
          ]
        }
      ],
      "source": [
        "a.reverse() #to reverse a list\n",
        "print(a)"
      ]
    },
    {
      "cell_type": "code",
      "execution_count": null,
      "metadata": {
        "colab": {
          "base_uri": "https://localhost:8080/"
        },
        "id": "9Vk-fItZVJ5o",
        "outputId": "6b093381-dbaa-4685-e4cc-b5f36d6ff1f2"
      },
      "outputs": [
        {
          "name": "stdout",
          "output_type": "stream",
          "text": [
            "[45]\n"
          ]
        }
      ],
      "source": [
        "li.append(45) #to add element in list\n",
        "print(li)"
      ]
    },
    {
      "cell_type": "code",
      "execution_count": null,
      "metadata": {
        "colab": {
          "base_uri": "https://localhost:8080/"
        },
        "id": "f5IuM0rXVUBQ",
        "outputId": "4996d85e-9895-4c84-8a3f-3106417e1575"
      },
      "outputs": [
        {
          "name": "stdout",
          "output_type": "stream",
          "text": [
            "[98, 86, 456, 65, 58, 48, 37, 23, 2]\n"
          ]
        }
      ],
      "source": [
        "a.insert(2,456) #to insert element in list at a specific index\n",
        "print(a)"
      ]
    },
    {
      "cell_type": "code",
      "execution_count": null,
      "metadata": {
        "colab": {
          "base_uri": "https://localhost:8080/"
        },
        "id": "-V0szfhFVgWu",
        "outputId": "5ff6b633-959c-4c3d-d3c2-1021cef70dc1"
      },
      "outputs": [
        {
          "name": "stdout",
          "output_type": "stream",
          "text": [
            "[98, 86, 65, 58, 48, 37, 23, 2]\n",
            "456\n"
          ]
        }
      ],
      "source": [
        "element=a.pop(2) #to remove element from list at a specific index\n",
        "print(a)\n",
        "print(element)"
      ]
    },
    {
      "cell_type": "code",
      "execution_count": null,
      "metadata": {
        "colab": {
          "base_uri": "https://localhost:8080/"
        },
        "id": "1djcylRhVo0n",
        "outputId": "fd7f97d2-f7a5-45a9-8ec1-332835c510bb"
      },
      "outputs": [
        {
          "name": "stdout",
          "output_type": "stream",
          "text": [
            "[98, 86, 65, 58, 37, 23, 2]\n"
          ]
        }
      ],
      "source": [
        "a.remove(48) #to remove a specific element from list\n",
        "print(a)"
      ]
    },
    {
      "cell_type": "markdown",
      "metadata": {
        "id": "l34IQdWaV86X"
      },
      "source": [
        "Tuples"
      ]
    },
    {
      "cell_type": "code",
      "execution_count": null,
      "metadata": {
        "colab": {
          "base_uri": "https://localhost:8080/"
        },
        "id": "t8fRQx1QWA5P",
        "outputId": "e4c14147-1f02-4957-d17d-78aeb8f4964f"
      },
      "outputs": [
        {
          "name": "stdout",
          "output_type": "stream",
          "text": [
            "<class 'tuple'>\n"
          ]
        }
      ],
      "source": [
        "#these are similar to list but are immutable\n",
        "t1=(4,5,\"mohit\",34.6)\n",
        "print(type(t1))"
      ]
    },
    {
      "cell_type": "code",
      "execution_count": null,
      "metadata": {
        "id": "wBHvP2QRWHdW"
      },
      "outputs": [],
      "source": [
        "# t1[0]=6 gives error because tuples are immutable"
      ]
    },
    {
      "cell_type": "code",
      "execution_count": null,
      "metadata": {
        "colab": {
          "base_uri": "https://localhost:8080/"
        },
        "id": "2Vmgtz8tWNnn",
        "outputId": "8c62a1a1-b8a8-4537-9ba1-1f9a2a3defde"
      },
      "outputs": [
        {
          "data": {
            "text/plain": [
              "1"
            ]
          },
          "execution_count": 17,
          "metadata": {},
          "output_type": "execute_result"
        }
      ],
      "source": [
        "#tuple functions\n",
        "t1.count(4) #to count the number of times a specific element is present in tuple"
      ]
    },
    {
      "cell_type": "code",
      "execution_count": null,
      "metadata": {
        "colab": {
          "base_uri": "https://localhost:8080/"
        },
        "id": "zhLN6WQyWcTW",
        "outputId": "cbb93db4-74ed-4448-98f4-90c0d3c33d85"
      },
      "outputs": [
        {
          "data": {
            "text/plain": [
              "2"
            ]
          },
          "execution_count": 18,
          "metadata": {},
          "output_type": "execute_result"
        }
      ],
      "source": [
        "t1.index(\"mohit\") #to find the index of a specific element in tuple"
      ]
    },
    {
      "cell_type": "markdown",
      "metadata": {
        "id": "RL5GDmaSWiUP"
      },
      "source": [
        "Dictionary"
      ]
    },
    {
      "cell_type": "code",
      "execution_count": null,
      "metadata": {
        "colab": {
          "base_uri": "https://localhost:8080/"
        },
        "id": "mV--N5OKWlA2",
        "outputId": "c1f2e267-4050-4ad0-8aef-dfec7a8010de"
      },
      "outputs": [
        {
          "name": "stdout",
          "output_type": "stream",
          "text": [
            "<class 'dict'>\n",
            "<class 'dict'>\n"
          ]
        }
      ],
      "source": [
        "# These are Key-Value pairs. It is mutalbe, unordered, indexed and can't contain duplicate keys.\n",
        "d=dict() #empty dictionary\n",
        "e={} #empty dictionary\n",
        "print(type(d))\n",
        "print(type(e))"
      ]
    },
    {
      "cell_type": "code",
      "execution_count": 18,
      "metadata": {
        "colab": {
          "base_uri": "https://localhost:8080/"
        },
        "id": "EqvdT6cWXCPY",
        "outputId": "526c01f1-03a1-4968-c1f2-5060bb5e15c5"
      },
      "outputs": [
        {
          "output_type": "stream",
          "name": "stdout",
          "text": [
            "{'name': 'mohit', 'age': 24, 'gender': 'male'}\n",
            "mohit\n",
            "24\n"
          ]
        }
      ],
      "source": [
        "f={\n",
        "    \"name\":\"mohit\",\n",
        "    \"age\":24,\n",
        "    \"gender\":\"male\"\n",
        "}\n",
        "print(f)\n",
        "print(f['name'])\n",
        "print(f['age'])"
      ]
    },
    {
      "cell_type": "code",
      "execution_count": null,
      "metadata": {
        "colab": {
          "background_save": true
        },
        "id": "Ld-eotiLzKKc",
        "outputId": "98741404-09b5-4607-97e3-8ae11343c911"
      },
      "outputs": [
        {
          "name": "stdout",
          "output_type": "stream",
          "text": [
            "3\n"
          ]
        }
      ],
      "source": [
        "print(len(f)) # to get the length of the dictionary"
      ]
    },
    {
      "cell_type": "code",
      "source": [
        "g=f.keys() # to get the keys of dictionary\n",
        "print(g)"
      ],
      "metadata": {
        "colab": {
          "base_uri": "https://localhost:8080/"
        },
        "id": "Wvp73l5oM7yc",
        "outputId": "0a72baf6-cf9c-4df4-a6eb-6c552cd42b14"
      },
      "execution_count": 3,
      "outputs": [
        {
          "output_type": "stream",
          "name": "stdout",
          "text": [
            "dict_keys(['name', 'age', 'gender'])\n"
          ]
        }
      ]
    },
    {
      "cell_type": "code",
      "source": [
        "h=f.values() # to get the values of dictionary\n",
        "print(h)"
      ],
      "metadata": {
        "colab": {
          "base_uri": "https://localhost:8080/"
        },
        "id": "RDSXLp6VN0kM",
        "outputId": "aeb0a1ac-f255-44e4-e6cc-84a1bc1a787e"
      },
      "execution_count": 4,
      "outputs": [
        {
          "output_type": "stream",
          "name": "stdout",
          "text": [
            "dict_values(['mohit', 24, 'male'])\n"
          ]
        }
      ]
    },
    {
      "cell_type": "code",
      "source": [
        "f.update({\"place\":\"jind\"}) # to update the dictionary\n",
        "print(f)"
      ],
      "metadata": {
        "colab": {
          "base_uri": "https://localhost:8080/"
        },
        "id": "bV03ear-OAGb",
        "outputId": "0de96658-9d1f-4916-d25f-e0fbcfd642b4"
      },
      "execution_count": 11,
      "outputs": [
        {
          "output_type": "stream",
          "name": "stdout",
          "text": [
            "{'name': 'mohit', 'age': 24, 'gender': 'male', 'place': 'jind'}\n"
          ]
        }
      ]
    },
    {
      "cell_type": "code",
      "source": [
        "f.pop('place') # to remove the item with the specified key name\n",
        "print(f)"
      ],
      "metadata": {
        "colab": {
          "base_uri": "https://localhost:8080/"
        },
        "id": "LUJ8Mb8jPDcc",
        "outputId": "e63152b6-06a2-43cc-9dbf-5bafe6cc4bae"
      },
      "execution_count": 12,
      "outputs": [
        {
          "output_type": "stream",
          "name": "stdout",
          "text": [
            "{'name': 'mohit', 'age': 24, 'gender': 'male'}\n"
          ]
        }
      ]
    },
    {
      "cell_type": "code",
      "source": [
        "f.popitem() # to remove the last item in the dictionary\n",
        "print(f)"
      ],
      "metadata": {
        "colab": {
          "base_uri": "https://localhost:8080/"
        },
        "id": "GfYJ8p-bPkmr",
        "outputId": "a6791abd-dc1c-4a3f-aece-78cf9e448ec6"
      },
      "execution_count": 13,
      "outputs": [
        {
          "output_type": "stream",
          "name": "stdout",
          "text": [
            "{'name': 'mohit', 'age': 24}\n"
          ]
        }
      ]
    },
    {
      "cell_type": "code",
      "source": [
        "del f['age'] # to delete the item with the specified key name\n",
        "print(f)"
      ],
      "metadata": {
        "colab": {
          "base_uri": "https://localhost:8080/"
        },
        "id": "TOrzM1ANPvsC",
        "outputId": "c05234ec-df67-40f4-d3f5-053b6be7e826"
      },
      "execution_count": 19,
      "outputs": [
        {
          "output_type": "stream",
          "name": "stdout",
          "text": [
            "{'name': 'mohit', 'gender': 'male'}\n"
          ]
        }
      ]
    },
    {
      "cell_type": "code",
      "source": [
        "del f # to delete the dict completely\n",
        "# print(f)  gives error because 'f' dict is deleted"
      ],
      "metadata": {
        "id": "gKzuCnT5P7Pa"
      },
      "execution_count": 20,
      "outputs": []
    },
    {
      "cell_type": "code",
      "source": [
        "f={\n",
        "    \"name\":\"mohit\",\n",
        "    \"age\":24,\n",
        "    \"gender\":\"male\"\n",
        "}\n",
        "f.clear() #to empty the dict\n",
        "print(f)"
      ],
      "metadata": {
        "colab": {
          "base_uri": "https://localhost:8080/"
        },
        "id": "QEv6bv3xQM4i",
        "outputId": "7ceedc3b-7c2f-4ff9-bf0e-d115b8000f3e"
      },
      "execution_count": 21,
      "outputs": [
        {
          "output_type": "stream",
          "name": "stdout",
          "text": [
            "{}\n"
          ]
        }
      ]
    },
    {
      "cell_type": "code",
      "source": [
        "f={\n",
        "    \"name\":\"mohit\",\n",
        "    \"age\":24,\n",
        "    \"gender\":\"male\"\n",
        "}\n",
        "#print all the key names one by one\n",
        "for i in f:\n",
        "    print(i)\n",
        "    #or\n",
        "for i in f.keys():\n",
        "    print(i)"
      ],
      "metadata": {
        "colab": {
          "base_uri": "https://localhost:8080/"
        },
        "id": "ymik2R97QleL",
        "outputId": "70257c21-d9c6-476d-e4ba-270df803f149"
      },
      "execution_count": 25,
      "outputs": [
        {
          "output_type": "stream",
          "name": "stdout",
          "text": [
            "name\n",
            "age\n",
            "gender\n",
            "name\n",
            "age\n",
            "gender\n"
          ]
        }
      ]
    },
    {
      "cell_type": "code",
      "source": [
        "#print all the values one by one\n",
        "for i in f:\n",
        "  print(f[i])\n",
        "  #or\n",
        "for i in f.values():\n",
        "    print(i)"
      ],
      "metadata": {
        "colab": {
          "base_uri": "https://localhost:8080/"
        },
        "id": "V9tfugq1Q6sa",
        "outputId": "067beffe-d91e-4680-92f6-57b2647b38a9"
      },
      "execution_count": 26,
      "outputs": [
        {
          "output_type": "stream",
          "name": "stdout",
          "text": [
            "mohit\n",
            "24\n",
            "male\n",
            "mohit\n",
            "24\n",
            "male\n"
          ]
        }
      ]
    },
    {
      "cell_type": "code",
      "source": [
        "#print all the keys and values one by one\n",
        "for i,j in f.items():\n",
        "    print(i,j)"
      ],
      "metadata": {
        "colab": {
          "base_uri": "https://localhost:8080/"
        },
        "id": "JJv_ZoaxRHaK",
        "outputId": "28ce70c5-f8f2-4167-cb5e-3a6b7ba211a1"
      },
      "execution_count": 27,
      "outputs": [
        {
          "output_type": "stream",
          "name": "stdout",
          "text": [
            "name mohit\n",
            "age 24\n",
            "gender male\n"
          ]
        }
      ]
    },
    {
      "cell_type": "code",
      "source": [
        "g=f.copy() #to copy the dict\n",
        "print(g)"
      ],
      "metadata": {
        "colab": {
          "base_uri": "https://localhost:8080/"
        },
        "id": "UaVSUoL7RvsL",
        "outputId": "951d657a-edb1-4ba8-a223-9e6010f43e70"
      },
      "execution_count": 28,
      "outputs": [
        {
          "output_type": "stream",
          "name": "stdout",
          "text": [
            "{'name': 'mohit', 'age': 24, 'gender': 'male'}\n"
          ]
        }
      ]
    },
    {
      "cell_type": "code",
      "source": [
        "#nested dictionary\n",
        "h={\n",
        "    \"std1\":{\n",
        "        \"name\":\"mohit\",\n",
        "        \"age\":24,\n",
        "        \"gender\":\"male\"\n",
        "    },\n",
        "    \"std2\":{\n",
        "        \"name\":\"rohit\",\n",
        "        \"age\":22,\n",
        "        \"gender\":\"male\"\n",
        "    },\n",
        "    \"std3\":{\n",
        "        \"name\":\"ankita\",\n",
        "        \"age\":23,\n",
        "        \"gender\":\"female\"\n",
        "    }\n",
        "}\n",
        "print(h)\n",
        "print(h['std1']['name'])"
      ],
      "metadata": {
        "colab": {
          "base_uri": "https://localhost:8080/"
        },
        "id": "G843JcVpRySr",
        "outputId": "ca377ee9-1aa6-4351-d4de-b28f933c9eac"
      },
      "execution_count": 32,
      "outputs": [
        {
          "output_type": "stream",
          "name": "stdout",
          "text": [
            "{'std1': {'name': 'mohit', 'age': 24, 'gender': 'male'}, 'std2': {'name': 'rohit', 'age': 22, 'gender': 'male'}, 'std3': {'name': 'ankita', 'age': 23, 'gender': 'female'}}\n",
            "mohit\n"
          ]
        }
      ]
    },
    {
      "cell_type": "code",
      "source": [
        "#loop inside nested dict\n",
        "for i,item in h.items():\n",
        "    for j in item:\n",
        "        print(item[j])"
      ],
      "metadata": {
        "colab": {
          "base_uri": "https://localhost:8080/"
        },
        "id": "yHDn94NTSxNZ",
        "outputId": "5b7eff7e-efd5-4e17-fea4-c55fe6181efb"
      },
      "execution_count": 44,
      "outputs": [
        {
          "output_type": "stream",
          "name": "stdout",
          "text": [
            "mohit\n",
            "24\n",
            "male\n",
            "rohit\n",
            "22\n",
            "male\n",
            "ankita\n",
            "23\n",
            "female\n"
          ]
        }
      ]
    },
    {
      "cell_type": "code",
      "source": [],
      "metadata": {
        "id": "z02lPgwpTwNp"
      },
      "execution_count": null,
      "outputs": []
    }
  ],
  "metadata": {
    "colab": {
      "provenance": [],
      "authorship_tag": "ABX9TyOMeBsRJvA5GOOkfyKGbWcW",
      "include_colab_link": true
    },
    "kernelspec": {
      "display_name": "Python 3",
      "name": "python3"
    },
    "language_info": {
      "name": "python"
    }
  },
  "nbformat": 4,
  "nbformat_minor": 0
}