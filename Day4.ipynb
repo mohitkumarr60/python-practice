{
  "nbformat": 4,
  "nbformat_minor": 0,
  "metadata": {
    "colab": {
      "provenance": [],
      "authorship_tag": "ABX9TyPAzMawXZoCnW1/m7Va3Iou",
      "include_colab_link": true
    },
    "kernelspec": {
      "name": "python3",
      "display_name": "Python 3"
    },
    "language_info": {
      "name": "python"
    }
  },
  "cells": [
    {
      "cell_type": "markdown",
      "metadata": {
        "id": "view-in-github",
        "colab_type": "text"
      },
      "source": [
        "<a href=\"https://colab.research.google.com/github/mohitkumarr60/python-practice/blob/main/Day%204.ipynb\" target=\"_parent\"><img src=\"https://colab.research.google.com/assets/colab-badge.svg\" alt=\"Open In Colab\"/></a>"
      ]
    },
    {
      "cell_type": "markdown",
      "source": [
        "# **Modules**"
      ],
      "metadata": {
        "id": "W5zc7zH8y5UU"
      }
    },
    {
      "cell_type": "code",
      "execution_count": 10,
      "metadata": {
        "colab": {
          "base_uri": "https://localhost:8080/"
        },
        "id": "7m7_PT6TyEiH",
        "outputId": "0611a68a-b209-4568-9c8e-bb195db387a4"
      },
      "outputs": [
        {
          "output_type": "stream",
          "name": "stdout",
          "text": [
            "5.0\n",
            "2\n",
            "1\n",
            "3.141592653589793\n"
          ]
        }
      ],
      "source": [
        "# the module can contain functions and variables of all types, which are already defined\n",
        "import math\n",
        "\n",
        "# calculate the square root of a number\n",
        "print(math.sqrt(25))\n",
        "print(math.ceil(1.4))\n",
        "print(math.floor(1.4))\n",
        "print(math.pi)"
      ]
    },
    {
      "cell_type": "code",
      "source": [
        "# Re-naming a module\n",
        "import math as m\n",
        "print(m.sqrt(25))\n",
        "print(m.ceil(1.4))\n",
        "print(m.floor(1.4))\n",
        "print(m.pi)"
      ],
      "metadata": {
        "colab": {
          "base_uri": "https://localhost:8080/"
        },
        "id": "dzZxAmPA2znx",
        "outputId": "7c01a9d7-d0bf-43d5-c418-1bdc2c425bc3"
      },
      "execution_count": 11,
      "outputs": [
        {
          "output_type": "stream",
          "name": "stdout",
          "text": [
            "5.0\n",
            "2\n",
            "1\n",
            "3.141592653589793\n"
          ]
        }
      ]
    },
    {
      "cell_type": "code",
      "source": [
        "import platform\n",
        "print(platform.system())\n",
        "print(platform.release())\n",
        "print(platform.python_version())"
      ],
      "metadata": {
        "colab": {
          "base_uri": "https://localhost:8080/"
        },
        "id": "jpZwfdfP33KS",
        "outputId": "462234f6-555e-4a18-cb18-814539e92c01"
      },
      "execution_count": 13,
      "outputs": [
        {
          "output_type": "stream",
          "name": "stdout",
          "text": [
            "Linux\n",
            "6.1.85+\n",
            "3.10.12\n"
          ]
        }
      ]
    },
    {
      "cell_type": "code",
      "source": [
        "import platform\n",
        "x=dir(platform)\n",
        "print(x)"
      ],
      "metadata": {
        "colab": {
          "base_uri": "https://localhost:8080/"
        },
        "id": "pqVib0Wh4OUY",
        "outputId": "851b81ea-fcf7-4a97-b88b-aab30e223f24"
      },
      "execution_count": 14,
      "outputs": [
        {
          "output_type": "stream",
          "name": "stdout",
          "text": [
            "['_Processor', '_WIN32_CLIENT_RELEASES', '_WIN32_SERVER_RELEASES', '__builtins__', '__cached__', '__copyright__', '__doc__', '__file__', '__loader__', '__name__', '__package__', '__spec__', '__version__', '_comparable_version', '_component_re', '_default_architecture', '_follow_symlinks', '_get_machine_win32', '_ironpython26_sys_version_parser', '_ironpython_sys_version_parser', '_java_getprop', '_libc_search', '_mac_ver_xml', '_node', '_norm_version', '_os_release_cache', '_os_release_candidates', '_os_release_line', '_os_release_unescape', '_parse_os_release', '_platform', '_platform_cache', '_pypy_sys_version_parser', '_sys_version', '_sys_version_cache', '_sys_version_parser', '_syscmd_file', '_syscmd_ver', '_uname_cache', '_unknown_as_blank', '_ver_output', '_ver_stages', 'architecture', 'collections', 'freedesktop_os_release', 'functools', 'itertools', 'java_ver', 'libc_ver', 'mac_ver', 'machine', 'node', 'os', 'platform', 'processor', 'python_branch', 'python_build', 'python_compiler', 'python_implementation', 'python_revision', 'python_version', 'python_version_tuple', 're', 'release', 'subprocess', 'sys', 'system', 'system_alias', 'uname', 'uname_result', 'version', 'win32_edition', 'win32_is_iot', 'win32_ver']\n"
          ]
        }
      ]
    },
    {
      "cell_type": "markdown",
      "source": [
        "There are 2 types of Modules in python:\n",
        "1. Built in Modules(Preinstalled in Python)\n",
        "2. External Modules(Need to install using pip)\n",
        "New section"
      ],
      "metadata": {
        "id": "XRI9APmC8epD"
      }
    },
    {
      "cell_type": "code",
      "source": [
        "#pip install <module_name>\n",
        "#module_name.<function/variable>"
      ],
      "metadata": {
        "id": "avPNJy4b9XKK"
      },
      "execution_count": null,
      "outputs": []
    },
    {
      "cell_type": "markdown",
      "source": [
        "# Try Except"
      ],
      "metadata": {
        "id": "mZEMOH1qAuMH"
      }
    },
    {
      "cell_type": "markdown",
      "source": [
        "The try block lets you test a block of code for errors.\n",
        "\n",
        "The except block lets you handle the error.\n",
        "\n",
        "The else block lets you execute code when there is no error.\n",
        "\n",
        "The finally block lets you execute code, regardless of the result of the try- and except blocks."
      ],
      "metadata": {
        "id": "KLB4NA4IA3wX"
      }
    },
    {
      "cell_type": "code",
      "source": [
        "try:\n",
        "  print(a) #gives exception because a is not defined\n",
        "except:\n",
        "  print(\"An exception occurred\")"
      ],
      "metadata": {
        "colab": {
          "base_uri": "https://localhost:8080/"
        },
        "id": "fuSSuTa2B_ia",
        "outputId": "8404fa38-9d00-42e9-acd9-e5f201c008b2"
      },
      "execution_count": 17,
      "outputs": [
        {
          "output_type": "stream",
          "name": "stdout",
          "text": [
            "An exception occurred\n"
          ]
        }
      ]
    },
    {
      "cell_type": "code",
      "source": [
        "# we can use multiple except blocks and can also find the special kind of error\n",
        "list1= [1,2,3,4,5,6]\n",
        "try:\n",
        "  print(list2) # gives variable is not defined error\n",
        "  #print(list1[8]) # gives Something else went wrong as output\n",
        "except NameError:\n",
        "  print(\"Variable is not defined\")\n",
        "except:\n",
        "  print(\"Something else went wrong\")"
      ],
      "metadata": {
        "colab": {
          "base_uri": "https://localhost:8080/"
        },
        "id": "8DBSzG6VCDnf",
        "outputId": "691e086b-2612-44ec-9659-6374d4f38fec"
      },
      "execution_count": 21,
      "outputs": [
        {
          "output_type": "stream",
          "name": "stdout",
          "text": [
            "Variable a is not defined\n"
          ]
        }
      ]
    },
    {
      "cell_type": "code",
      "source": [
        "# we can also run a else block if the try block does not generate any error\n",
        "a='Hello'\n",
        "try:\n",
        "  print(a)\n",
        "except:\n",
        "  print(\"An Error occured\")\n",
        "else:\n",
        "  print(\"Everything works fine\")"
      ],
      "metadata": {
        "colab": {
          "base_uri": "https://localhost:8080/"
        },
        "id": "xKqCm81LDAcQ",
        "outputId": "a43bc3a7-6500-41f3-8631-3cd776885c0c"
      },
      "execution_count": 24,
      "outputs": [
        {
          "output_type": "stream",
          "name": "stdout",
          "text": [
            "Hello\n",
            "Everything works fine\n"
          ]
        }
      ]
    },
    {
      "cell_type": "code",
      "source": [
        "# finally block will be executed everytime, regardless of try and except block\n",
        "try:\n",
        "  print(b)\n",
        "except:\n",
        "  print(\"An Error occured\")\n",
        "finally:\n",
        "  print(\"The 'try except' is finished\")"
      ],
      "metadata": {
        "colab": {
          "base_uri": "https://localhost:8080/"
        },
        "id": "xXAGYBC3Des4",
        "outputId": "2d61a202-5c0f-4c8f-c000-d1843efd1ed1"
      },
      "execution_count": 26,
      "outputs": [
        {
          "output_type": "stream",
          "name": "stdout",
          "text": [
            "An Error occured\n",
            "The 'try except' is finished\n"
          ]
        }
      ]
    },
    {
      "cell_type": "code",
      "source": [
        "# Raising an exception\n",
        "# raise keyword is used to throw an exception, if a condition occurs.\n",
        "x=50\n",
        "if x>10:\n",
        "  raise Exception(\"x should not exceed 10\")"
      ],
      "metadata": {
        "colab": {
          "base_uri": "https://localhost:8080/",
          "height": 176
        },
        "id": "rDo60qKtE5WR",
        "outputId": "21a675e5-083d-454e-d61d-e2159ec682d2"
      },
      "execution_count": 29,
      "outputs": [
        {
          "output_type": "error",
          "ename": "Exception",
          "evalue": "x should not exceed 10",
          "traceback": [
            "\u001b[0;31m---------------------------------------------------------------------------\u001b[0m",
            "\u001b[0;31mException\u001b[0m                                 Traceback (most recent call last)",
            "\u001b[0;32m<ipython-input-29-cc706d9d6257>\u001b[0m in \u001b[0;36m<cell line: 4>\u001b[0;34m()\u001b[0m\n\u001b[1;32m      3\u001b[0m \u001b[0mx\u001b[0m\u001b[0;34m=\u001b[0m\u001b[0;36m50\u001b[0m\u001b[0;34m\u001b[0m\u001b[0;34m\u001b[0m\u001b[0m\n\u001b[1;32m      4\u001b[0m \u001b[0;32mif\u001b[0m \u001b[0mx\u001b[0m\u001b[0;34m>\u001b[0m\u001b[0;36m10\u001b[0m\u001b[0;34m:\u001b[0m\u001b[0;34m\u001b[0m\u001b[0;34m\u001b[0m\u001b[0m\n\u001b[0;32m----> 5\u001b[0;31m   \u001b[0;32mraise\u001b[0m \u001b[0mException\u001b[0m\u001b[0;34m(\u001b[0m\u001b[0;34m\"x should not exceed 10\"\u001b[0m\u001b[0;34m)\u001b[0m\u001b[0;34m\u001b[0m\u001b[0;34m\u001b[0m\u001b[0m\n\u001b[0m",
            "\u001b[0;31mException\u001b[0m: x should not exceed 10"
          ]
        }
      ]
    },
    {
      "cell_type": "markdown",
      "source": [
        "### User Input"
      ],
      "metadata": {
        "id": "m6zfF-l_Eph-"
      }
    },
    {
      "cell_type": "code",
      "source": [
        "num=input('Enter a number:')\n",
        "print(num)"
      ],
      "metadata": {
        "colab": {
          "base_uri": "https://localhost:8080/"
        },
        "id": "K4qGT6QJEuXH",
        "outputId": "f8708a6a-75d7-44d1-cb2e-31ca106a06c4"
      },
      "execution_count": 30,
      "outputs": [
        {
          "output_type": "stream",
          "name": "stdout",
          "text": [
            "Enter a number:5\n",
            "5\n"
          ]
        }
      ]
    }
  ]
}
