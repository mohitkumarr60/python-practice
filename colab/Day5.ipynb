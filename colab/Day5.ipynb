{
  "nbformat": 4,
  "nbformat_minor": 0,
  "metadata": {
    "colab": {
      "provenance": [],
      "authorship_tag": "ABX9TyPjw1aCEHmMhD21HZlYVjOa",
      "include_colab_link": true
    },
    "kernelspec": {
      "name": "python3",
      "display_name": "Python 3"
    },
    "language_info": {
      "name": "python"
    }
  },
  "cells": [
    {
      "cell_type": "markdown",
      "metadata": {
        "id": "view-in-github",
        "colab_type": "text"
      },
      "source": [
        "<a href=\"https://colab.research.google.com/github/mohitkumarr60/python-practice/blob/main/colab/Day5.ipynb\" target=\"_parent\"><img src=\"https://colab.research.google.com/assets/colab-badge.svg\" alt=\"Open In Colab\"/></a>"
      ]
    },
    {
      "cell_type": "markdown",
      "source": [
        "# **Python Inheritance**\n",
        "\n",
        "---\n",
        "\n",
        "\n",
        "Inheritance allows us to define a class that inherits all the methods and properties from another class.\n",
        "\n",
        "Parent class is the class being inherited from, also called base class.\n",
        "\n",
        "Child class is the class that inherits from another class, also called derived class.\n"
      ],
      "metadata": {
        "id": "lrGAwlrDCdMM"
      }
    },
    {
      "cell_type": "markdown",
      "source": [
        "## Let's create a class"
      ],
      "metadata": {
        "id": "DeA-1QS9C3Xa"
      }
    },
    {
      "cell_type": "code",
      "source": [
        "class Employees:\n",
        "  def __init__(self, name, age): #We will talk about the \"__init__()\" function later\n",
        "    self.name = name\n",
        "    self.age = age\n",
        "\n",
        "  def display(self):\n",
        "    print(\"Name: \", self.name)\n",
        "    print(\"Age: \", self.age)\n",
        "x= Employees(\"Ankit\", 25)\n",
        "x.display()"
      ],
      "metadata": {
        "id": "iU_b_gjIDFfr",
        "colab": {
          "base_uri": "https://localhost:8080/"
        },
        "outputId": "a553a206-ef48-45fb-bb18-2ff691f6e7eb"
      },
      "execution_count": 1,
      "outputs": [
        {
          "output_type": "stream",
          "name": "stdout",
          "text": [
            "Name:  Ankit\n",
            "Age:  25\n"
          ]
        }
      ]
    },
    {
      "cell_type": "markdown",
      "source": [
        "## __init__() Function\n",
        "\n",
        "The __init__() function is called automatically every time the class is used to create a new object."
      ],
      "metadata": {
        "id": "uV7UP8dULnVD"
      }
    },
    {
      "cell_type": "markdown",
      "source": [
        "## Now Let's create a child class\n",
        "To create a class that inherits the functionality from another class, send the parent class as a parameter when creating the child class:"
      ],
      "metadata": {
        "id": "42GpxXwUJre6"
      }
    },
    {
      "cell_type": "code",
      "source": [
        "class Developer(Employees):\n",
        "  pass # we use pass keyword, so that the class do not give any error"
      ],
      "metadata": {
        "id": "OQAUienqJyHy"
      },
      "execution_count": 2,
      "outputs": []
    },
    {
      "cell_type": "markdown",
      "source": [
        "Now the Developer class has the same properties and methods as the Employees Class"
      ],
      "metadata": {
        "id": "DIDMnRUOKYzx"
      }
    },
    {
      "cell_type": "code",
      "source": [
        "# Let's use the Developer class to create an object and execute the methods inside that class\n",
        "x = Developer(\"John\", 25)\n",
        "x.display()"
      ],
      "metadata": {
        "colab": {
          "base_uri": "https://localhost:8080/"
        },
        "id": "Z1h4K2EpKWor",
        "outputId": "483c2913-922d-472c-bf2e-fbc70fa4c2b4"
      },
      "execution_count": 3,
      "outputs": [
        {
          "output_type": "stream",
          "name": "stdout",
          "text": [
            "Name:  John\n",
            "Age:  25\n"
          ]
        }
      ]
    },
    {
      "cell_type": "markdown",
      "source": [
        "**Note:** When we define an __init__() function in the child class, it overrides the __init__() function inherited from the parent class. To ensure the child class retains the behavior of the parent's __init__() function, we need to explicitly call the parent's __init__() within the child's __init__().\n",
        "\n",
        "This can be done as follows:"
      ],
      "metadata": {
        "id": "-hLJPN7IjVB5"
      }
    },
    {
      "cell_type": "code",
      "source": [
        "class Developer(Employees):\n",
        "  def __init__(self, name, age):\n",
        "    Employees.__init__(self, name, age)\n"
      ],
      "metadata": {
        "id": "-WjMRS3Ij7GK"
      },
      "execution_count": 4,
      "outputs": []
    },
    {
      "cell_type": "markdown",
      "source": [
        "## The super() Function\n",
        "Python provides a convenient super() function that facilitates inheritance of methods and properties from a parent class to its child. This allows the child class to leverage functionalities defined in the parent class without explicitly referencing the parent's name."
      ],
      "metadata": {
        "id": "UNWO8T_XknH6"
      }
    },
    {
      "cell_type": "code",
      "source": [
        "class Developer(Employees):\n",
        "    def __init__(self, name, age):\n",
        "        super().__init__(name, age)"
      ],
      "metadata": {
        "id": "EhMUhR-XlHgI"
      },
      "execution_count": 5,
      "outputs": []
    },
    {
      "cell_type": "markdown",
      "source": [
        "By using super(), the child class Student inherits all methods and properties from its parent class Person, simplifying the inheritance process and promoting code clarity."
      ],
      "metadata": {
        "id": "Asrrhx7XlUuY"
      }
    },
    {
      "cell_type": "markdown",
      "source": [
        "### Adding Properties to the Child Class\n",
        "We can extend the functionality of the child class by adding new properties. For instance, adding a graduationyear property to the Student class:"
      ],
      "metadata": {
        "id": "NF7wbilRlZR4"
      }
    },
    {
      "cell_type": "code",
      "source": [
        "class Developer(Employees):\n",
        "    def __init__(self, name, age):\n",
        "        super().__init__(name, age)\n",
        "        self.graduationyear = 2019"
      ],
      "metadata": {
        "id": "O5ZbMN2OlXAK"
      },
      "execution_count": 6,
      "outputs": []
    },
    {
      "cell_type": "markdown",
      "source": [
        "In this example, 2019 can be replaced with a variable that is passed into the Student class during object creation."
      ],
      "metadata": {
        "id": "0NR13754OD74"
      }
    },
    {
      "cell_type": "markdown",
      "source": [
        "### Adding Parameters to __init__() for Dynamic Initialization\n",
        "To make the `graduationyear` parameter dynamic and passed during object creation:\n",
        "\n"
      ],
      "metadata": {
        "id": "V6BisbTAOJOC"
      }
    },
    {
      "cell_type": "code",
      "source": [
        "class Developer(Employees):\n",
        "    def __init__(self, name, age, year):\n",
        "        super().__init__(name, age)\n",
        "        self.graduationyear = year\n",
        "x = Developer(\"Mohit\", 25, 2019)"
      ],
      "metadata": {
        "id": "SUATuYLkOUHV"
      },
      "execution_count": 7,
      "outputs": []
    },
    {
      "cell_type": "markdown",
      "source": [
        "Here, `year` is a parameter that allows flexibility in setting the `graduationyear` when instantiating a `Student` object."
      ],
      "metadata": {
        "id": "Y2vQC8JgOs26"
      }
    },
    {
      "cell_type": "markdown",
      "source": [
        "### Adding Methods to Extend Functionality\n",
        "We can enhance the functionality of the child class by adding new methods, such as a `welcome` method:"
      ],
      "metadata": {
        "id": "d1KPgT1FO1TZ"
      }
    },
    {
      "cell_type": "code",
      "source": [
        "class Developer(Employees):\n",
        "    def __init__(self, name, age, year):\n",
        "        super().__init__(name, age)\n",
        "        self.graduationyear = year\n",
        "\n",
        "    def welcome(self):\n",
        "        print(\"Welcome\", self.name, \"to the class of\", self.graduationyear)\n",
        "\n",
        "Developer(\"Mohit\", 25, 2019).welcome()"
      ],
      "metadata": {
        "colab": {
          "base_uri": "https://localhost:8080/"
        },
        "id": "dK8hZLy9O7hi",
        "outputId": "d3de0253-1fdb-42ac-8842-a2e262773bf8"
      },
      "execution_count": 10,
      "outputs": [
        {
          "output_type": "stream",
          "name": "stdout",
          "text": [
            "Welcome Mohit to the class of 2019\n"
          ]
        }
      ]
    },
    {
      "cell_type": "markdown",
      "source": [
        "This `welcome` method provides a personalized welcome message for a `Student` object, utilizing properties inherited from the `Person` class."
      ],
      "metadata": {
        "id": "aJOikrt0PvKh"
      }
    }
  ]
}