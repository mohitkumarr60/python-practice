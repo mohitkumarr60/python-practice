{
  "nbformat": 4,
  "nbformat_minor": 0,
  "metadata": {
    "colab": {
      "provenance": [],
      "authorship_tag": "ABX9TyPZx4CjHU7bpJJpKrRj25K3",
      "include_colab_link": true
    },
    "kernelspec": {
      "name": "python3",
      "display_name": "Python 3"
    },
    "language_info": {
      "name": "python"
    }
  },
  "cells": [
    {
      "cell_type": "markdown",
      "metadata": {
        "id": "view-in-github",
        "colab_type": "text"
      },
      "source": [
        "<a href=\"https://colab.research.google.com/github/mohitkumarr60/python-practice/blob/main/day1.ipynb\" target=\"_parent\"><img src=\"https://colab.research.google.com/assets/colab-badge.svg\" alt=\"Open In Colab\"/></a>"
      ]
    },
    {
      "cell_type": "code",
      "execution_count": 1,
      "metadata": {
        "colab": {
          "base_uri": "https://localhost:8080/"
        },
        "id": "jilpD6G-SARy",
        "outputId": "b2d282e7-f460-429e-93ef-c41946d2de55"
      },
      "outputs": [
        {
          "output_type": "stream",
          "name": "stdout",
          "text": [
            "Hello World\n"
          ]
        }
      ],
      "source": [
        "# To print anything on the console in a line\n",
        "print(\"Hello World\")"
      ]
    },
    {
      "cell_type": "code",
      "source": [
        "# To print anything on the console in a new line\n",
        "print(\"Hello World\\nHello World\")"
      ],
      "metadata": {
        "colab": {
          "base_uri": "https://localhost:8080/"
        },
        "id": "ZPdkKyRASI25",
        "outputId": "4dbd15b5-54f3-4a63-f127-89eb1fe15c0a"
      },
      "execution_count": 2,
      "outputs": [
        {
          "output_type": "stream",
          "name": "stdout",
          "text": [
            "Hello World\n",
            "Hello World\n"
          ]
        }
      ]
    },
    {
      "cell_type": "code",
      "source": [
        "# To print anything on the console in a particular format including spaces.\n",
        "print('''\n",
        "    *\n",
        "   ***\n",
        "  *****\n",
        " *******\n",
        "''')"
      ],
      "metadata": {
        "colab": {
          "base_uri": "https://localhost:8080/"
        },
        "id": "aKUQshMzSNG_",
        "outputId": "32d1289d-b15a-43e8-ee9c-7f3c3e0ffff4"
      },
      "execution_count": 3,
      "outputs": [
        {
          "output_type": "stream",
          "name": "stdout",
          "text": [
            "\n",
            "    *\n",
            "   ***\n",
            "  *****\n",
            " *******\n",
            "\n"
          ]
        }
      ]
    },
    {
      "cell_type": "markdown",
      "source": [
        "data types"
      ],
      "metadata": {
        "id": "4PS3MZ9YSRq2"
      }
    },
    {
      "cell_type": "code",
      "source": [
        "# integer\n",
        "a=9\n",
        "\n",
        "# float\n",
        "b=9.5\n",
        "\n",
        "# string\n",
        "c=\"Hello World\"\n",
        "\n",
        "# boolean\n",
        "d=True #or False\n",
        "\n",
        "# List (mutable)\n",
        "e=[1,2,3,4,5]\n",
        "\n",
        "# Tuple (immutable)\n",
        "f=(1,2,3,4,5)\n",
        "\n",
        "# range\n",
        "g=range(1, 10)\n",
        "\n",
        "# dict (key-value pairs)\n",
        "h={\"name\": \"Mohit\", \"age\": 24}\n",
        "\n",
        "# set (unordered collection of unique elements)\n",
        "i={1, 2, 3, 4, 5}\n",
        "\n",
        "# frozenset (immutable version of set)\n",
        "j=frozenset({1, 2, 3, 4, 5})\n",
        "\n",
        "# bytes (immutable)\n",
        "k=b\"Hello\"\n",
        "\n",
        "# bytesarray (mutable)\n",
        "l=bytearray(b\"Hello\")\n",
        "\n",
        "# None\n",
        "m=None"
      ],
      "metadata": {
        "id": "H7IYrriVSVK2"
      },
      "execution_count": 5,
      "outputs": []
    },
    {
      "cell_type": "code",
      "source": [
        "# To check the type of a variable\n",
        "type(a)"
      ],
      "metadata": {
        "colab": {
          "base_uri": "https://localhost:8080/"
        },
        "id": "ueLHT_upShUP",
        "outputId": "a64fc495-1531-41cb-f6ad-0c0c8aab9a5f"
      },
      "execution_count": 6,
      "outputs": [
        {
          "output_type": "execute_result",
          "data": {
            "text/plain": [
              "int"
            ]
          },
          "metadata": {},
          "execution_count": 6
        }
      ]
    },
    {
      "cell_type": "code",
      "source": [
        "print(type(m))"
      ],
      "metadata": {
        "colab": {
          "base_uri": "https://localhost:8080/"
        },
        "id": "x9ry14QDSptO",
        "outputId": "7dd70131-50ad-4ca2-eb83-4ca0a93622d3"
      },
      "execution_count": 7,
      "outputs": [
        {
          "output_type": "stream",
          "name": "stdout",
          "text": [
            "<class 'NoneType'>\n"
          ]
        }
      ]
    },
    {
      "cell_type": "code",
      "source": [
        "print(j)"
      ],
      "metadata": {
        "colab": {
          "base_uri": "https://localhost:8080/"
        },
        "id": "nAoxWNaZSs23",
        "outputId": "ff17e560-1cb7-4703-bb4b-62078131eb3c"
      },
      "execution_count": 8,
      "outputs": [
        {
          "output_type": "stream",
          "name": "stdout",
          "text": [
            "frozenset({1, 2, 3, 4, 5})\n"
          ]
        }
      ]
    },
    {
      "cell_type": "markdown",
      "source": [
        "conditional statements"
      ],
      "metadata": {
        "id": "ezM10mxXS5ku"
      }
    },
    {
      "cell_type": "code",
      "source": [
        "# if\n",
        "marks=80\n",
        "if marks>=60:\n",
        "    print(\"passed\")"
      ],
      "metadata": {
        "colab": {
          "base_uri": "https://localhost:8080/"
        },
        "id": "lZwrRgxOS_n-",
        "outputId": "bd0747b5-c9b0-42e0-af6d-a197e93bff54"
      },
      "execution_count": 12,
      "outputs": [
        {
          "output_type": "stream",
          "name": "stdout",
          "text": [
            "passed\n"
          ]
        }
      ]
    },
    {
      "cell_type": "code",
      "source": [
        "# if elif else\n",
        "age=5\n",
        "if age>=18:\n",
        "    print(\"adult\")\n",
        "elif age>=13:\n",
        "    print(\"teenager\")\n",
        "else:\n",
        "    print(\"kid\")"
      ],
      "metadata": {
        "colab": {
          "base_uri": "https://localhost:8080/"
        },
        "id": "BglI0_guTEG-",
        "outputId": "3b3c1cfd-29f2-452f-dd4d-6def9015960a"
      },
      "execution_count": 13,
      "outputs": [
        {
          "output_type": "stream",
          "name": "stdout",
          "text": [
            "kid\n"
          ]
        }
      ]
    },
    {
      "cell_type": "code",
      "source": [
        "# nested if else\n",
        "age=30\n",
        "if age>=18:\n",
        "    if age>=60:\n",
        "        print(\"senior citizen\")\n",
        "    else:\n",
        "        print(\"adult\")\n",
        "else:\n",
        "    print(\"kid\")"
      ],
      "metadata": {
        "colab": {
          "base_uri": "https://localhost:8080/"
        },
        "id": "A-U9l9XcTbFP",
        "outputId": "2daa54df-dce0-424b-a4d7-00169567ae13"
      },
      "execution_count": 16,
      "outputs": [
        {
          "output_type": "stream",
          "name": "stdout",
          "text": [
            "adult\n"
          ]
        }
      ]
    },
    {
      "cell_type": "markdown",
      "source": [
        "loops"
      ],
      "metadata": {
        "id": "RS-W-LGdT823"
      }
    },
    {
      "cell_type": "code",
      "source": [
        "# for loop\n",
        "for i in range(1, 11):\n",
        "    print(i)"
      ],
      "metadata": {
        "colab": {
          "base_uri": "https://localhost:8080/"
        },
        "id": "XvuhRXYwUAoF",
        "outputId": "dc625177-71f2-44c3-ed78-d7b265f362fe"
      },
      "execution_count": 17,
      "outputs": [
        {
          "output_type": "stream",
          "name": "stdout",
          "text": [
            "1\n",
            "2\n",
            "3\n",
            "4\n",
            "5\n",
            "6\n",
            "7\n",
            "8\n",
            "9\n",
            "10\n"
          ]
        }
      ]
    },
    {
      "cell_type": "code",
      "source": [
        "# print even numbers\n",
        "# range(initialization, condition, increment)\n",
        "for i in range(2, 11, 2):\n",
        "        print(i)"
      ],
      "metadata": {
        "colab": {
          "base_uri": "https://localhost:8080/"
        },
        "id": "eskp2CwBUoef",
        "outputId": "610268f6-2e0a-4b5a-fd43-5d95ef896116"
      },
      "execution_count": 20,
      "outputs": [
        {
          "output_type": "stream",
          "name": "stdout",
          "text": [
            "2\n",
            "4\n",
            "6\n",
            "8\n",
            "10\n"
          ]
        }
      ]
    },
    {
      "cell_type": "code",
      "source": [
        "#print characters of a string\n",
        "str= 'Hello World'\n",
        "for i in str:\n",
        "    print(i)"
      ],
      "metadata": {
        "colab": {
          "base_uri": "https://localhost:8080/"
        },
        "id": "XAweIvrQU6TH",
        "outputId": "3e74098d-b6d1-4883-8aae-85068411e136"
      },
      "execution_count": 21,
      "outputs": [
        {
          "output_type": "stream",
          "name": "stdout",
          "text": [
            "H\n",
            "e\n",
            "l\n",
            "l\n",
            "o\n",
            " \n",
            "W\n",
            "o\n",
            "r\n",
            "l\n",
            "d\n"
          ]
        }
      ]
    },
    {
      "cell_type": "code",
      "source": [
        "# print elements of list \"e\" using for loop\n",
        "for i in e:\n",
        "  print(i)"
      ],
      "metadata": {
        "colab": {
          "base_uri": "https://localhost:8080/"
        },
        "id": "sRpJv29cVP8W",
        "outputId": "6858342a-e306-403b-d932-dded44f160bd"
      },
      "execution_count": 22,
      "outputs": [
        {
          "output_type": "stream",
          "name": "stdout",
          "text": [
            "1\n",
            "2\n",
            "3\n",
            "4\n",
            "5\n"
          ]
        }
      ]
    },
    {
      "cell_type": "code",
      "source": [
        "#printing elements as well as index of list \"e\" using for loop\n",
        "for index, element in enumerate(e):\n",
        "  print(index,\":\",element)"
      ],
      "metadata": {
        "colab": {
          "base_uri": "https://localhost:8080/"
        },
        "id": "qyvYnRXMWHV-",
        "outputId": "96097db7-1514-47d0-8467-d9005e71e620"
      },
      "execution_count": 27,
      "outputs": [
        {
          "output_type": "stream",
          "name": "stdout",
          "text": [
            "0 : 1\n",
            "1 : 2\n",
            "2 : 3\n",
            "3 : 4\n",
            "4 : 5\n"
          ]
        }
      ]
    },
    {
      "cell_type": "code",
      "source": [
        "# while loop\n",
        "i=1\n",
        "while i<=10:\n",
        "    print(i)\n",
        "    i+=1"
      ],
      "metadata": {
        "colab": {
          "base_uri": "https://localhost:8080/"
        },
        "id": "YGC5RhnyWXu2",
        "outputId": "d74e8e29-6143-49ae-b264-8508187da59d"
      },
      "execution_count": 28,
      "outputs": [
        {
          "output_type": "stream",
          "name": "stdout",
          "text": [
            "1\n",
            "2\n",
            "3\n",
            "4\n",
            "5\n",
            "6\n",
            "7\n",
            "8\n",
            "9\n",
            "10\n"
          ]
        }
      ]
    },
    {
      "cell_type": "code",
      "source": [
        "# using while loop with else\n",
        "i=1\n",
        "while i<=10:\n",
        "    print(i)\n",
        "    i+=1\n",
        "else:\n",
        "    print(\"Loop is stopped because i is greater than 10\")"
      ],
      "metadata": {
        "colab": {
          "base_uri": "https://localhost:8080/"
        },
        "id": "GG5YV0c-Wbim",
        "outputId": "0db0dad2-eaac-4706-909d-3b3b94d1f309"
      },
      "execution_count": 29,
      "outputs": [
        {
          "output_type": "stream",
          "name": "stdout",
          "text": [
            "1\n",
            "2\n",
            "3\n",
            "4\n",
            "5\n",
            "6\n",
            "7\n",
            "8\n",
            "9\n",
            "10\n",
            "Loop is stopped because i is greater than 10\n"
          ]
        }
      ]
    }
  ]
}