{
  "nbformat": 4,
  "nbformat_minor": 0,
  "metadata": {
    "colab": {
      "provenance": [],
      "authorship_tag": "ABX9TyN9Cndd4hHOoSJmgF+Q6+Rf",
      "include_colab_link": true
    },
    "kernelspec": {
      "name": "python3",
      "display_name": "Python 3"
    },
    "language_info": {
      "name": "python"
    }
  },
  "cells": [
    {
      "cell_type": "markdown",
      "metadata": {
        "id": "view-in-github",
        "colab_type": "text"
      },
      "source": [
        "<a href=\"https://colab.research.google.com/github/mohitkumarr60/python-practice/blob/main/colab/File_Handling.ipynb\" target=\"_parent\"><img src=\"https://colab.research.google.com/assets/colab-badge.svg\" alt=\"Open In Colab\"/></a>"
      ]
    },
    {
      "cell_type": "markdown",
      "source": [
        "# File Handling in Python\n",
        "\n",
        "Python's file handling is streamlined and efficient, with the open() function being the cornerstone for working with files. The open() function requires two parameters: the filename and the mode of operation.\n",
        "\n",
        "## Modes of Opening Files\n",
        "\n",
        "There are four primary modes for opening a file:\n",
        "\n",
        "- **\"r\" - Read**: Opens a file for reading. This is the default mode. An error is raised if the file does not exist.\n",
        "- **\"a\" - Append**: Opens a file for appending. If the file does not exist, it creates a new one.\n",
        "- **\"w\" - Write**: Opens a file for writing. If the file does not exist, it creates a new one.\n",
        "- **\"x\" - Create**: Creates a new file. An error is raised if the file already exists.\n",
        "\n",
        "Additionally, you can specify how the file should be handled in terms of its content format:\n",
        "\n",
        "- **\"t\" - Text**: Default mode. Opens the file in text mode.\n",
        "- **\"b\" - Binary**: Opens the file in binary mode, which is useful for non-text files like images.\n",
        "\n",
        "#### Syntax for Opening Files\n",
        "\n",
        "To open a file for reading, you only need to specify the filename:"
      ],
      "metadata": {
        "id": "lsM26HThQbT6"
      }
    },
    {
      "cell_type": "code",
      "source": [
        "f = open(\"demofile.txt\", \"rt\")"
      ],
      "metadata": {
        "id": "K1s9OkC1Q1D6"
      },
      "execution_count": null,
      "outputs": []
    },
    {
      "cell_type": "markdown",
      "source": [
        "Since \"r\" (read) and \"t\" (text) are the default values, explicitly specifying them is not necessary.\n",
        "\n",
        "**Example Usage:**\n",
        "\n",
        "Here are a few examples demonstrating different modes of file opening:\n",
        "\n",
        "**Read Mode:**\n"
      ],
      "metadata": {
        "id": "_7Xn6IkhQ5Lp"
      }
    },
    {
      "cell_type": "code",
      "source": [
        "# Opens an existing file for reading\n",
        "f = open(\"demofile.txt\")"
      ],
      "metadata": {
        "id": "92tthrtqRH0Q"
      },
      "execution_count": null,
      "outputs": []
    },
    {
      "cell_type": "markdown",
      "source": [
        "**Append Mode:**\n"
      ],
      "metadata": {
        "id": "oAyrqnifRKVw"
      }
    },
    {
      "cell_type": "code",
      "source": [
        "# Opens a file for appending, creates it if it doesn't exist\n",
        "f = open(\"demofile.txt\", \"a\")"
      ],
      "metadata": {
        "id": "i5EVBWdZRN_R"
      },
      "execution_count": null,
      "outputs": []
    },
    {
      "cell_type": "markdown",
      "source": [
        "**Write Mode:**"
      ],
      "metadata": {
        "id": "oEyvZVlORQDh"
      }
    },
    {
      "cell_type": "code",
      "source": [
        "# Opens a file for writing, creates it if it doesn't exist\n",
        "f = open(\"demofile.txt\", \"w\")"
      ],
      "metadata": {
        "id": "Zr8YhT1eRTip"
      },
      "execution_count": null,
      "outputs": []
    },
    {
      "cell_type": "markdown",
      "source": [
        "**Create Mode:**"
      ],
      "metadata": {
        "id": "-so6F_7gRYVw"
      }
    },
    {
      "cell_type": "code",
      "source": [
        "# Creates a new file, raises an error if the file exists\n",
        "f = open(\"demofile.txt\", \"x\")"
      ],
      "metadata": {
        "id": "9b_rQG0zRXbg"
      },
      "execution_count": null,
      "outputs": []
    },
    {
      "cell_type": "markdown",
      "source": [
        "**Binary Mode:**"
      ],
      "metadata": {
        "id": "mNzBX0JqRbuQ"
      }
    },
    {
      "cell_type": "code",
      "source": [
        "# Opens a file for reading in binary mode\n",
        "f = open(\"imagefile.jpg\", \"rb\")"
      ],
      "metadata": {
        "id": "xxBcofGgRero"
      },
      "execution_count": null,
      "outputs": []
    },
    {
      "cell_type": "markdown",
      "source": [
        "By understanding and utilizing these modes, you can handle files in Python effectively, whether you are reading text files, appending logs, writing data, or managing binary content like images."
      ],
      "metadata": {
        "id": "Q0juZVBeRlHQ"
      }
    }
  ]
}