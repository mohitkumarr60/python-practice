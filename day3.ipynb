{
  "nbformat": 4,
  "nbformat_minor": 0,
  "metadata": {
    "colab": {
      "provenance": [],
      "authorship_tag": "ABX9TyPg705weV8YnPByfMBxxxkT",
      "include_colab_link": true
    },
    "kernelspec": {
      "name": "python3",
      "display_name": "Python 3"
    },
    "language_info": {
      "name": "python"
    }
  },
  "cells": [
    {
      "cell_type": "markdown",
      "metadata": {
        "id": "view-in-github",
        "colab_type": "text"
      },
      "source": [
        "<a href=\"https://colab.research.google.com/github/mohitkumarr60/python-practice/blob/main/day3.ipynb\" target=\"_parent\"><img src=\"https://colab.research.google.com/assets/colab-badge.svg\" alt=\"Open In Colab\"/></a>"
      ]
    },
    {
      "cell_type": "markdown",
      "source": [
        "Function"
      ],
      "metadata": {
        "id": "Y-z7fajoZuzv"
      }
    },
    {
      "cell_type": "code",
      "source": [
        "# define a new function\n",
        "def my_function():\n",
        "    print(\"Hello from a function\")\n",
        "my_function()"
      ],
      "metadata": {
        "colab": {
          "base_uri": "https://localhost:8080/"
        },
        "id": "RDzmrc9tZxkO",
        "outputId": "24b6bb2c-1e80-4c0a-f16b-5ef83453f4fe"
      },
      "execution_count": 1,
      "outputs": [
        {
          "output_type": "stream",
          "name": "stdout",
          "text": [
            "Hello from a function\n"
          ]
        }
      ]
    },
    {
      "cell_type": "code",
      "source": [
        "#passing arguments to a function\n",
        "def addition(a, b):\n",
        "    c = a + b\n",
        "    return c\n",
        "c=addition(2, 3)\n",
        "print(c)"
      ],
      "metadata": {
        "colab": {
          "base_uri": "https://localhost:8080/"
        },
        "id": "Lye3_vQ4Z-mO",
        "outputId": "44d409b6-3fe2-43ae-b5f5-5a9d72a83d6e"
      },
      "execution_count": 2,
      "outputs": [
        {
          "output_type": "stream",
          "name": "stdout",
          "text": [
            "5\n"
          ]
        }
      ]
    },
    {
      "cell_type": "code",
      "source": [
        "# arbitrary function\n",
        "def arbitrary_function(*args): #in this way the function will receive a tuple of arguments\n",
        "    for i in args:\n",
        "        print(i)\n",
        "arbitrary_function(1, 2, 3, 4)"
      ],
      "metadata": {
        "colab": {
          "base_uri": "https://localhost:8080/"
        },
        "id": "5BLNYWbSaZTN",
        "outputId": "0ea689e1-5b04-458d-94b9-f21fe6825eae"
      },
      "execution_count": 3,
      "outputs": [
        {
          "output_type": "stream",
          "name": "stdout",
          "text": [
            "1\n",
            "2\n",
            "3\n",
            "4\n"
          ]
        }
      ]
    },
    {
      "cell_type": "code",
      "source": [
        "# keyword arguments\n",
        "def new_function(b,a,c):\n",
        "    print(a,b,c)\n",
        "new_function(a=1,b=2,c=3)"
      ],
      "metadata": {
        "colab": {
          "base_uri": "https://localhost:8080/"
        },
        "id": "a1npt4f5bfWV",
        "outputId": "74d0ea3f-7dfc-4708-d9c3-8c0304c2c89a"
      },
      "execution_count": 4,
      "outputs": [
        {
          "output_type": "stream",
          "name": "stdout",
          "text": [
            "1 2 3\n"
          ]
        }
      ]
    },
    {
      "cell_type": "code",
      "source": [
        "#arbitrary keyword arguments\n",
        "def arbitrary_keyword_arguments(**args):\n",
        "    for key, value in kwargs.items():\n",
        "        print(key, value)\n",
        "arbitrary_keyword_arguments(a=1, b=2, c=3)"
      ],
      "metadata": {
        "colab": {
          "base_uri": "https://localhost:8080/"
        },
        "id": "ABsC7Sb0b551",
        "outputId": "f6acd8a3-5a25-44c4-91f2-a3db90732e4c"
      },
      "execution_count": 5,
      "outputs": [
        {
          "output_type": "stream",
          "name": "stdout",
          "text": [
            "a 1\n",
            "b 2\n",
            "c 3\n"
          ]
        }
      ]
    },
    {
      "cell_type": "code",
      "source": [
        "#default parameter value\n",
        "def default_parameter(a, b=1, c=2): #means if we don't pass the b and c arguments, default values will be passed\n",
        "    print(a, b, c)\n",
        "default_parameter(1)"
      ],
      "metadata": {
        "colab": {
          "base_uri": "https://localhost:8080/"
        },
        "id": "e--cA3HUc_8E",
        "outputId": "aa6876f9-7154-4a51-fe9a-0049659f1f08"
      },
      "execution_count": 7,
      "outputs": [
        {
          "output_type": "stream",
          "name": "stdout",
          "text": [
            "1 1 2\n"
          ]
        }
      ]
    },
    {
      "cell_type": "code",
      "source": [
        "#list as argument\n",
        "def sum_list(items):\n",
        "  sum=0\n",
        "  for i in items:\n",
        "    sum+=i\n",
        "  return sum\n",
        "\n",
        "print(sum_list([1,2,3,4]))"
      ],
      "metadata": {
        "colab": {
          "base_uri": "https://localhost:8080/"
        },
        "id": "eKRqkuZAdgYs",
        "outputId": "6a94ffe3-ba7c-4f79-d09a-fd1d5c0cea2c"
      },
      "execution_count": 8,
      "outputs": [
        {
          "output_type": "stream",
          "name": "stdout",
          "text": [
            "10\n"
          ]
        }
      ]
    },
    {
      "cell_type": "code",
      "source": [
        "#pass statement : to avoid getting an error from an empty function\n",
        "def pass_statement():\n",
        "    pass\n",
        "\n",
        "pass_statement()"
      ],
      "metadata": {
        "id": "nwV-2whvdztk"
      },
      "execution_count": 10,
      "outputs": []
    },
    {
      "cell_type": "code",
      "source": [
        "# recursion / recursive function\n",
        "#recursive function is a function which calls itself again and again until a condition is satisfied\n",
        "def factorial(x):\n",
        "    if x == 1:\n",
        "        return 1\n",
        "    else:\n",
        "        return (x * factorial(x-1))\n",
        "num = 3\n",
        "print(\"The factorial of\", num, \"is\", factorial(num))"
      ],
      "metadata": {
        "colab": {
          "base_uri": "https://localhost:8080/"
        },
        "id": "yLrBc1GTeMtF",
        "outputId": "550ab4fe-dda3-49fd-86d6-8c760cfc8dd2"
      },
      "execution_count": 11,
      "outputs": [
        {
          "output_type": "stream",
          "name": "stdout",
          "text": [
            "The factorial of 3 is 6\n"
          ]
        }
      ]
    },
    {
      "cell_type": "markdown",
      "source": [
        "Lambda"
      ],
      "metadata": {
        "id": "R5SuwUKafr6D"
      }
    },
    {
      "cell_type": "code",
      "source": [
        "# Lambda function is one line, small anonymous function which can only have one expression.\n",
        "sum= lambda a,b: a+b\n",
        "print(sum(2,3))"
      ],
      "metadata": {
        "colab": {
          "base_uri": "https://localhost:8080/"
        },
        "id": "w7K-vOiKiQh7",
        "outputId": "220e4e8b-36d0-4fc1-dd1f-89e80eb99a4b"
      },
      "execution_count": 18,
      "outputs": [
        {
          "output_type": "stream",
          "name": "stdout",
          "text": [
            "5\n"
          ]
        }
      ]
    },
    {
      "cell_type": "code",
      "source": [
        "def myfunc(n):\n",
        "  return lambda a : a * n\n",
        "\n",
        "a = myfunc(2)\n",
        "b = myfunc(3)\n",
        "c = myfunc(4)\n",
        "print(a(11))\n",
        "print(b(11))\n",
        "print(c(11))"
      ],
      "metadata": {
        "colab": {
          "base_uri": "https://localhost:8080/"
        },
        "id": "xaexCz9kiToa",
        "outputId": "3dd4f8de-926f-4311-9fb2-b169d81a8491"
      },
      "execution_count": 19,
      "outputs": [
        {
          "output_type": "stream",
          "name": "stdout",
          "text": [
            "22\n",
            "33\n",
            "44\n"
          ]
        }
      ]
    }
  ]
}