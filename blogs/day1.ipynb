{
  "nbformat": 4,
  "nbformat_minor": 0,
  "metadata": {
    "colab": {
      "provenance": [],
      "authorship_tag": "ABX9TyPRA+WeG4AnGq37HA/oHgQt",
      "include_colab_link": true
    },
    "kernelspec": {
      "name": "python3",
      "display_name": "Python 3"
    },
    "language_info": {
      "name": "python"
    }
  },
  "cells": [
    {
      "cell_type": "markdown",
      "metadata": {
        "id": "view-in-github",
        "colab_type": "text"
      },
      "source": [
        "<a href=\"https://colab.research.google.com/github/mohitkumarr60/python-practice/blob/main/blogs/day1.ipynb\" target=\"_parent\"><img src=\"https://colab.research.google.com/assets/colab-badge.svg\" alt=\"Open In Colab\"/></a>"
      ]
    },
    {
      "cell_type": "markdown",
      "source": [
        "# Python - One Week Challenge: **First Day**"
      ],
      "metadata": {
        "id": "Zt0GLZKzCKIj"
      }
    },
    {
      "cell_type": "markdown",
      "source": [
        "Let's try to print \"Hello World\" on the console"
      ],
      "metadata": {
        "id": "2wwPqtgjCgoq"
      }
    },
    {
      "cell_type": "code",
      "execution_count": null,
      "metadata": {
        "colab": {
          "base_uri": "https://localhost:8080/"
        },
        "id": "jilpD6G-SARy",
        "outputId": "b2d282e7-f460-429e-93ef-c41946d2de55"
      },
      "outputs": [
        {
          "output_type": "stream",
          "name": "stdout",
          "text": [
            "Hello World\n"
          ]
        }
      ],
      "source": [
        "# To print anything on the console in a line\n",
        "print(\"Hello World\")"
      ]
    },
    {
      "cell_type": "code",
      "source": [
        "# To print anything on the console in a new line\n",
        "print(\"Hello World\\nHello World\")"
      ],
      "metadata": {
        "colab": {
          "base_uri": "https://localhost:8080/"
        },
        "id": "ZPdkKyRASI25",
        "outputId": "4dbd15b5-54f3-4a63-f127-89eb1fe15c0a"
      },
      "execution_count": null,
      "outputs": [
        {
          "output_type": "stream",
          "name": "stdout",
          "text": [
            "Hello World\n",
            "Hello World\n"
          ]
        }
      ]
    },
    {
      "cell_type": "code",
      "source": [
        "# To print anything on the console in a particular format including spaces.\n",
        "print('''\n",
        "    *\n",
        "   ***\n",
        "  *****\n",
        " *******\n",
        "''')"
      ],
      "metadata": {
        "colab": {
          "base_uri": "https://localhost:8080/"
        },
        "id": "aKUQshMzSNG_",
        "outputId": "32d1289d-b15a-43e8-ee9c-7f3c3e0ffff4"
      },
      "execution_count": null,
      "outputs": [
        {
          "output_type": "stream",
          "name": "stdout",
          "text": [
            "\n",
            "    *\n",
            "   ***\n",
            "  *****\n",
            " *******\n",
            "\n"
          ]
        }
      ]
    },
    {
      "cell_type": "markdown",
      "source": [
        "## Data Types in Python:\n",
        "\n",
        "\n",
        "---\n",
        "\n",
        "\n",
        "**Numeric Types**\n",
        "- int\n",
        "- float\n",
        "- complex\n",
        "\n",
        "**Sequence Types**\n",
        "- str\n",
        "- list\n",
        "- tuple\n",
        "\n",
        "**Mapping Type**\n",
        "- dict\n",
        "\n",
        "**Set Types**\n",
        "- set\n",
        "- frozenset\n",
        "\n",
        "**Boolean Type**\n",
        "- bool\n",
        "\n",
        "**Binary Types**\n",
        "- bytes\n",
        "- bytearray\n",
        "- memoryview\n",
        "\n",
        "**None Type**\n",
        "- NoneType\n",
        "\n",
        "\n",
        "\n",
        "\n",
        "\n",
        "\n",
        "\n"
      ],
      "metadata": {
        "id": "4PS3MZ9YSRq2"
      }
    },
    {
      "cell_type": "markdown",
      "source": [
        "## Let's delve deeper into the data types."
      ],
      "metadata": {
        "id": "d8fiMli3dbwi"
      }
    },
    {
      "cell_type": "markdown",
      "source": [
        "## Numeric Types"
      ],
      "metadata": {
        "id": "zlS-Rr2YdugL"
      }
    },
    {
      "cell_type": "markdown",
      "source": [
        " - **int**: Integer type, for whole numbers (e.g., `42`, `-7`)\n",
        "\n",
        "- **float**: Floating-point type, for decimal numbers (e.g., `3.14`, `-0.001`)\n",
        "\n",
        "- **complex**: Complex number type, for numbers with a real and imaginary part (e.g., `3 + 4j`, `-1j`)"
      ],
      "metadata": {
        "id": "bd0QPDBnd76C"
      }
    },
    {
      "cell_type": "code",
      "source": [
        "# Numeric Types in Python\n",
        "\n",
        "# int: Integer type, for whole numbers\n",
        "x = 42          # An integer\n",
        "y = -7          # A negative integer\n",
        "\n",
        "# float: Floating-point type, for decimal numbers\n",
        "pi = 3.14       # A floating-point number\n",
        "negative_pi = -3.14  # A negative floating-point number\n",
        "\n",
        "# complex: Complex number type, for numbers with a real and imaginary part\n",
        "z = 3 + 4j      # A complex number with real part 3 and imaginary part 4\n",
        "w = -1j         # A complex number with real part 0 and imaginary part -1\n",
        "\n",
        "# Print the values of the variables.\n",
        "print(x, y, pi, negative_pi, z, w)\n",
        "\n",
        "# To check the data type of a variable\n",
        "print(type(x))\n",
        "print(type(pi))\n",
        "print(type(z))"
      ],
      "metadata": {
        "id": "H7IYrriVSVK2",
        "colab": {
          "base_uri": "https://localhost:8080/"
        },
        "outputId": "8383c34d-d158-498e-e6a9-6b5a75a45ef5"
      },
      "execution_count": null,
      "outputs": [
        {
          "output_type": "stream",
          "name": "stdout",
          "text": [
            "42 -7 3.14 -3.14 (3+4j) (-0-1j)\n",
            "<class 'int'>\n",
            "<class 'float'>\n",
            "<class 'complex'>\n"
          ]
        }
      ]
    },
    {
      "cell_type": "markdown",
      "source": [
        "## Sequence Type"
      ],
      "metadata": {
        "id": "kB9BzsC7fmdz"
      }
    },
    {
      "cell_type": "markdown",
      "source": [
        " - **str**: String type, for sequences of characters.\n"
      ],
      "metadata": {
        "id": "gnEiZdbBfugB"
      }
    },
    {
      "cell_type": "code",
      "source": [
        "greeting = \"hello\"\n",
        "farewell = \"goodbye\"\n",
        "print(greeting, farewell)\n",
        "print(type(greeting))"
      ],
      "metadata": {
        "colab": {
          "base_uri": "https://localhost:8080/"
        },
        "id": "fJfAtFxNzs8L",
        "outputId": "af08b63c-7a9e-495f-dac8-378630b76f05"
      },
      "execution_count": null,
      "outputs": [
        {
          "output_type": "stream",
          "name": "stdout",
          "text": [
            "hello goodbye\n",
            "<class 'str'>\n"
          ]
        }
      ]
    },
    {
      "cell_type": "markdown",
      "source": [
        "- **list**: List type, for ordered, mutable collections.\n"
      ],
      "metadata": {
        "id": "kN8i8cBOz86C"
      }
    },
    {
      "cell_type": "code",
      "source": [
        "numbers = [1,2,3]\n",
        "letters = ['a','b','c']\n",
        "mixed = [1, 'a', 3.14]\n",
        "print(numbers)\n",
        "print(letters)\n",
        "print(mixed)\n",
        "print(type(numbers))\n",
        "print(type(letters))\n",
        "print(type(mixed))"
      ],
      "metadata": {
        "colab": {
          "base_uri": "https://localhost:8080/"
        },
        "id": "D31xIGPczvUq",
        "outputId": "53e13735-248a-4fad-c517-f5f2de6f2505"
      },
      "execution_count": null,
      "outputs": [
        {
          "output_type": "stream",
          "name": "stdout",
          "text": [
            "[1, 2, 3]\n",
            "['a', 'b', 'c']\n",
            "[1, 'a', 3.14]\n",
            "<class 'list'>\n",
            "<class 'list'>\n",
            "<class 'list'>\n"
          ]
        }
      ]
    },
    {
      "cell_type": "markdown",
      "source": [
        "- **tuple**: Tuple type, for ordered, immutable collections."
      ],
      "metadata": {
        "id": "ReHGaEeZ0Ayr"
      }
    },
    {
      "cell_type": "code",
      "source": [
        "point = (1, 2)\n",
        "data = ('name', 30, True)\n",
        "single = (42,)\n",
        "print(point)\n",
        "print(data)\n",
        "print(single)\n",
        "print(type(point))\n",
        "print(type(data))\n",
        "print(type(single))"
      ],
      "metadata": {
        "colab": {
          "base_uri": "https://localhost:8080/"
        },
        "id": "f1uHzphDzzRa",
        "outputId": "c30d61fd-d67d-47bf-a814-f173262c709b"
      },
      "execution_count": null,
      "outputs": [
        {
          "output_type": "stream",
          "name": "stdout",
          "text": [
            "(1, 2)\n",
            "('name', 30, True)\n",
            "(42,)\n",
            "<class 'tuple'>\n",
            "<class 'tuple'>\n",
            "<class 'tuple'>\n"
          ]
        }
      ]
    },
    {
      "cell_type": "markdown",
      "source": [
        "## Mapping Type"
      ],
      "metadata": {
        "id": "HXm84tTtyLsf"
      }
    },
    {
      "cell_type": "markdown",
      "source": [
        "* **dict**: Dictionary type, for key-value pairs"
      ],
      "metadata": {
        "id": "StWqJLumyWLC"
      }
    },
    {
      "cell_type": "code",
      "source": [
        "person = {'name': 'John', 'age': 30}\n",
        "product = {'id': 101, 'name': 'Laptop', 'price': 799.99}\n",
        "print(person)\n",
        "print(product)\n",
        "print(type(person))\n",
        "print(type(product))"
      ],
      "metadata": {
        "colab": {
          "base_uri": "https://localhost:8080/"
        },
        "id": "bWvDE82e0VO0",
        "outputId": "caf7993c-45a5-4c5a-adfa-e4a2136ff1d2"
      },
      "execution_count": null,
      "outputs": [
        {
          "output_type": "stream",
          "name": "stdout",
          "text": [
            "{'name': 'John', 'age': 30}\n",
            "{'id': 101, 'name': 'Laptop', 'price': 799.99}\n",
            "<class 'dict'>\n",
            "<class 'dict'>\n"
          ]
        }
      ]
    },
    {
      "cell_type": "markdown",
      "source": [
        "## Set Type"
      ],
      "metadata": {
        "id": "uqP9Zen1zbQ1"
      }
    },
    {
      "cell_type": "markdown",
      "source": [
        "- **set**: Set type, for unordered collections of unique elements"
      ],
      "metadata": {
        "id": "b0NN8KWhziO6"
      }
    },
    {
      "cell_type": "code",
      "source": [
        "numbers = {1, 2, 3}       # A set of integers\n",
        "letters = {'a', 'b', 'c'} # A set of characters\n",
        "mixed = {1, 'a', 3.14}    # A set with mixed data types\n",
        "print(numbers)\n",
        "print(letters)\n",
        "print(mixed)\n",
        "print(type(numbers))\n",
        "print(type(letters))\n",
        "print(type(mixed))"
      ],
      "metadata": {
        "colab": {
          "base_uri": "https://localhost:8080/"
        },
        "id": "2GnZP8OSiL6y",
        "outputId": "5c559ffd-6aec-42c6-c538-26a214b04bd4"
      },
      "execution_count": null,
      "outputs": [
        {
          "output_type": "stream",
          "name": "stdout",
          "text": [
            "{1, 2, 3}\n",
            "{'c', 'b', 'a'}\n",
            "{1, 3.14, 'a'}\n",
            "<class 'set'>\n",
            "<class 'set'>\n",
            "<class 'set'>\n"
          ]
        }
      ]
    },
    {
      "cell_type": "markdown",
      "source": [
        "- **frozenset**: Immutable set type, for unordered collections of unique elements that cannot be changed after creation"
      ],
      "metadata": {
        "id": "Mheu3pVF05Ub"
      }
    },
    {
      "cell_type": "code",
      "source": [
        "frozen_numbers = frozenset([4, 5, 6])    # A frozenset of integers\n",
        "frozen_letters = frozenset(['a', 'b', 'c'])  # A frozenset of characters\n",
        "frozen_mixed = frozenset([1, 'a', 3.14])     # A frozenset with mixed data types\n",
        "print(frozen_numbers)\n",
        "print(frozen_letters)\n",
        "print(frozen_mixed)\n",
        "print(type(frozen_numbers))\n",
        "print(type(frozen_letters))\n",
        "print(type(frozen_mixed))"
      ],
      "metadata": {
        "colab": {
          "base_uri": "https://localhost:8080/"
        },
        "id": "ZAbnMdjX1EmK",
        "outputId": "bfc5dc81-29db-4893-c990-3c9b3b56459a"
      },
      "execution_count": null,
      "outputs": [
        {
          "output_type": "stream",
          "name": "stdout",
          "text": [
            "frozenset({4, 5, 6})\n",
            "frozenset({'c', 'b', 'a'})\n",
            "frozenset({1, 3.14, 'a'})\n",
            "<class 'frozenset'>\n",
            "<class 'frozenset'>\n",
            "<class 'frozenset'>\n"
          ]
        }
      ]
    },
    {
      "cell_type": "markdown",
      "source": [
        "## Boolean Type"
      ],
      "metadata": {
        "id": "hl4YkNIV1aSy"
      }
    },
    {
      "cell_type": "markdown",
      "source": [
        "- **bool**: Boolean type, for truth values (e.g., `True`, `False`)"
      ],
      "metadata": {
        "id": "9LDnzOPI1hcq"
      }
    },
    {
      "cell_type": "code",
      "source": [
        "is_active = True      # A boolean value representing True\n",
        "is_closed = False     # A boolean value representing False\n",
        "print(is_active)\n",
        "print(is_closed)\n",
        "print(type(is_active))\n",
        "print(type(is_closed))"
      ],
      "metadata": {
        "colab": {
          "base_uri": "https://localhost:8080/"
        },
        "id": "Vev1aNQQ1nZN",
        "outputId": "3d5abac9-9b2a-4387-f254-fc89c48a8dc1"
      },
      "execution_count": null,
      "outputs": [
        {
          "output_type": "stream",
          "name": "stdout",
          "text": [
            "True\n",
            "False\n",
            "<class 'bool'>\n",
            "<class 'bool'>\n"
          ]
        }
      ]
    },
    {
      "cell_type": "markdown",
      "source": [
        "- **NoneType**:Represents the absence of a value or a null value (e.g., `None`)"
      ],
      "metadata": {
        "id": "yfIxDZa11teC"
      }
    },
    {
      "cell_type": "code",
      "source": [
        "result = None         # A None value representing the absence of a value\n",
        "print(result)\n",
        "print(type(result))"
      ],
      "metadata": {
        "colab": {
          "base_uri": "https://localhost:8080/"
        },
        "id": "6-8i1Mf_19yi",
        "outputId": "ee041998-1a67-45e1-9050-4184336b3c98"
      },
      "execution_count": null,
      "outputs": [
        {
          "output_type": "stream",
          "name": "stdout",
          "text": [
            "None\n",
            "<class 'NoneType'>\n"
          ]
        }
      ]
    },
    {
      "cell_type": "markdown",
      "source": [
        "## Binary Type"
      ],
      "metadata": {
        "id": "aummOnCH2DJc"
      }
    },
    {
      "cell_type": "markdown",
      "source": [
        "- **bytes**: Immutable sequence of bytes (e.g., `b'hello'`)"
      ],
      "metadata": {
        "id": "TdHy1K5i2Fz6"
      }
    },
    {
      "cell_type": "code",
      "source": [
        "byte_data = b'hello'  # A bytes object\n",
        "print(byte_data)\n",
        "print(type(byte_data))"
      ],
      "metadata": {
        "colab": {
          "base_uri": "https://localhost:8080/"
        },
        "id": "54utWZZS2Wwy",
        "outputId": "5baf7696-6bad-468c-d35b-9847123e12f4"
      },
      "execution_count": null,
      "outputs": [
        {
          "output_type": "stream",
          "name": "stdout",
          "text": [
            "b'hello'\n",
            "<class 'bytes'>\n"
          ]
        }
      ]
    },
    {
      "cell_type": "markdown",
      "source": [
        "- **bytearray**: Mutable sequence of bytes (e.g., `bytearray(b'hello')`)"
      ],
      "metadata": {
        "id": "yBtZnxrc2ZyS"
      }
    },
    {
      "cell_type": "code",
      "source": [
        "mutable_byte_data = bytearray(b'hello')  # A bytearray object\n",
        "print(mutable_byte_data)\n",
        "print(type(mutable_byte_data))"
      ],
      "metadata": {
        "colab": {
          "base_uri": "https://localhost:8080/"
        },
        "id": "Q3Oq8wxP2kIz",
        "outputId": "01de63f2-56ce-4ae3-ef37-7304f49f942b"
      },
      "execution_count": null,
      "outputs": [
        {
          "output_type": "stream",
          "name": "stdout",
          "text": [
            "bytearray(b'hello')\n",
            "<class 'bytearray'>\n"
          ]
        }
      ]
    },
    {
      "cell_type": "markdown",
      "source": [
        "- **memoryview**: Memory view object, for exposing the buffer protocol (e.g., `memoryview(b'hello')`)"
      ],
      "metadata": {
        "id": "anwEOcHp2noi"
      }
    },
    {
      "cell_type": "code",
      "source": [
        "mem_view = memoryview(b'hello')  # A memoryview object\n",
        "print(mem_view)\n",
        "print(type(mem_view))"
      ],
      "metadata": {
        "colab": {
          "base_uri": "https://localhost:8080/"
        },
        "id": "KM14wn2F20za",
        "outputId": "17a72f1a-b4d9-4b60-e324-eb7604612b5e"
      },
      "execution_count": null,
      "outputs": [
        {
          "output_type": "stream",
          "name": "stdout",
          "text": [
            "<memory at 0x7f49c6650040>\n",
            "<class 'memoryview'>\n"
          ]
        }
      ]
    },
    {
      "cell_type": "markdown",
      "source": [
        "# Conditional Statements"
      ],
      "metadata": {
        "id": "ezM10mxXS5ku"
      }
    },
    {
      "cell_type": "markdown",
      "source": [
        "- **if statement**: if the condition is true, code inside the if block will be executed."
      ],
      "metadata": {
        "id": "3kGf04W84VSq"
      }
    },
    {
      "cell_type": "code",
      "source": [
        "# if\n",
        "marks=80\n",
        "if marks>=60:\n",
        "    print(\"passed\")"
      ],
      "metadata": {
        "colab": {
          "base_uri": "https://localhost:8080/"
        },
        "id": "lZwrRgxOS_n-",
        "outputId": "96e015e2-f73a-43c0-ac50-7604405a3f36"
      },
      "execution_count": null,
      "outputs": [
        {
          "output_type": "stream",
          "name": "stdout",
          "text": [
            "passed\n"
          ]
        }
      ]
    },
    {
      "cell_type": "markdown",
      "source": [
        "- **if-else statements**: if the condition is true, code inside the if block will be executed, else, the code inside else block will be executed."
      ],
      "metadata": {
        "id": "6PbUBSBb40vQ"
      }
    },
    {
      "cell_type": "code",
      "source": [
        "# if else\n",
        "age=5\n",
        "if age>=18:\n",
        "    print(\"adult\")\n",
        "else:\n",
        "    print(\"not adult\")"
      ],
      "metadata": {
        "colab": {
          "base_uri": "https://localhost:8080/"
        },
        "id": "BglI0_guTEG-",
        "outputId": "259a46a8-3d3b-4d0a-fac6-0ffc954e4d84"
      },
      "execution_count": null,
      "outputs": [
        {
          "output_type": "stream",
          "name": "stdout",
          "text": [
            "not adult\n"
          ]
        }
      ]
    },
    {
      "cell_type": "markdown",
      "source": [
        "- **if-elif-else statements**: It is used when we have to check for multiple conditions. There can be multiple elif conditions in a block."
      ],
      "metadata": {
        "id": "4voXdYmi5U_O"
      }
    },
    {
      "cell_type": "code",
      "source": [
        "marks =78\n",
        "if marks >= 90:\n",
        "    print(\"Grade: A\")\n",
        "elif marks >= 80:\n",
        "    print(\"Grade: B\")\n",
        "elif marks >= 70:\n",
        "    print(\"Grade: C\")\n",
        "else:\n",
        "    print(\"Grade: D\")"
      ],
      "metadata": {
        "colab": {
          "base_uri": "https://localhost:8080/"
        },
        "id": "A-U9l9XcTbFP",
        "outputId": "2823adc0-b68b-489a-94e3-1eed0b7a566e"
      },
      "execution_count": null,
      "outputs": [
        {
          "output_type": "stream",
          "name": "stdout",
          "text": [
            "Grade: C\n"
          ]
        }
      ]
    },
    {
      "cell_type": "markdown",
      "source": [
        "- **Nested if-else statements**: We can use another if-else block inside an if-else block."
      ],
      "metadata": {
        "id": "3M7MGZrr6aNe"
      }
    },
    {
      "cell_type": "code",
      "source": [
        "number = 15\n",
        "if number > 0:\n",
        "    if number % 2 == 0:\n",
        "        print(\"Positive even number\")\n",
        "    else:\n",
        "        print(\"Positive odd number\")\n",
        "else:\n",
        "    print(\"Non-positive number\")"
      ],
      "metadata": {
        "colab": {
          "base_uri": "https://localhost:8080/"
        },
        "id": "8RQWhP0V6unN",
        "outputId": "384b55aa-8e5a-4c14-872d-5936b13bba93"
      },
      "execution_count": null,
      "outputs": [
        {
          "output_type": "stream",
          "name": "stdout",
          "text": [
            "Positive odd number\n"
          ]
        }
      ]
    },
    {
      "cell_type": "markdown",
      "source": [
        "# Loops in Python"
      ],
      "metadata": {
        "id": "RS-W-LGdT823"
      }
    },
    {
      "cell_type": "markdown",
      "source": [
        "Python provides us with two types of loops to help us repeat tasks:\n",
        "1.   while loops\n",
        "2.   for loops\n"
      ],
      "metadata": {
        "id": "Fqadm1sd7s2B"
      }
    },
    {
      "cell_type": "markdown",
      "source": [
        "## 1. The while Loop\n",
        "The `while loop` allows you to execute a block of code repeatedly as long as a specified condition remains true.\n",
        "\n",
        "\n",
        "**Example:**\n",
        "\n",
        "Let's say we want to print numbers from 1 to 5:\n"
      ],
      "metadata": {
        "id": "jSDwrTyq8G3y"
      }
    },
    {
      "cell_type": "code",
      "source": [
        "i = 1\n",
        "while i < 6:\n",
        "    print(i)\n",
        "    i += 1"
      ],
      "metadata": {
        "colab": {
          "base_uri": "https://localhost:8080/"
        },
        "id": "12RnjcoH7pZ6",
        "outputId": "9a878214-9141-4697-97ad-ec6af4948ae6"
      },
      "execution_count": null,
      "outputs": [
        {
          "output_type": "stream",
          "name": "stdout",
          "text": [
            "1\n",
            "2\n",
            "3\n",
            "4\n",
            "5\n"
          ]
        }
      ]
    },
    {
      "cell_type": "markdown",
      "source": [
        "In this example, the loop will print the value of `i` as long as `i` is less than 6.\n",
        "\n",
        "*Don't forget to increment `i` inside the loop, or it will run forever!*"
      ],
      "metadata": {
        "id": "syfts9Rr8uJz"
      }
    },
    {
      "cell_type": "markdown",
      "source": [
        "#### The break Statement\n",
        "Sometimes, you might want to stop the loop before the condition becomes false. That's where the `break` statement comes in handy.\n",
        "\n",
        "**Example:**\n",
        "\n",
        "Imagine we want to stop the loop when i reaches 3:"
      ],
      "metadata": {
        "id": "mjvMIKzO-DnI"
      }
    },
    {
      "cell_type": "code",
      "source": [
        "i = 1\n",
        "while i < 6:\n",
        "    print(i)\n",
        "    if i == 3:\n",
        "        break\n",
        "    i += 1"
      ],
      "metadata": {
        "colab": {
          "base_uri": "https://localhost:8080/"
        },
        "id": "_RIdc-dU-S1X",
        "outputId": "41ecb11d-10c0-42e2-cdf1-f2af3a1a448b"
      },
      "execution_count": null,
      "outputs": [
        {
          "output_type": "stream",
          "name": "stdout",
          "text": [
            "1\n",
            "2\n",
            "3\n"
          ]
        }
      ]
    },
    {
      "cell_type": "markdown",
      "source": [
        "#### The continue Statement\n",
        "What if you want to skip the current iteration and move on to the next one? Use the continue statement.\n",
        "\n",
        "**Example:**\n",
        "\n",
        "Skip printing the number 3:"
      ],
      "metadata": {
        "id": "78jXiau2-cC9"
      }
    },
    {
      "cell_type": "code",
      "source": [
        "i = 0\n",
        "while i < 6:\n",
        "    i += 1\n",
        "    if i == 3:\n",
        "        continue\n",
        "    print(i)"
      ],
      "metadata": {
        "colab": {
          "base_uri": "https://localhost:8080/"
        },
        "id": "971rcrW8-lHw",
        "outputId": "7435faae-14ed-422d-b6cf-54b025ea3281"
      },
      "execution_count": null,
      "outputs": [
        {
          "output_type": "stream",
          "name": "stdout",
          "text": [
            "1\n",
            "2\n",
            "4\n",
            "5\n",
            "6\n"
          ]
        }
      ]
    },
    {
      "cell_type": "markdown",
      "source": [
        "#### The else Statement\n",
        "You can also pair an else statement with a while loop? The else block will execute once when the loop condition becomes false.\n",
        "\n",
        "**Example:**\n",
        "\n",
        "Print a message after the loop finishes:"
      ],
      "metadata": {
        "id": "G7i6O16o-xs2"
      }
    },
    {
      "cell_type": "code",
      "source": [
        "i = 1\n",
        "while i < 6:\n",
        "    print(i)\n",
        "    i += 1\n",
        "else:\n",
        "    print(\"i is no longer less than 6\")"
      ],
      "metadata": {
        "colab": {
          "base_uri": "https://localhost:8080/"
        },
        "id": "970eEN2E--mB",
        "outputId": "d7d248e7-b537-4433-9226-44a0163b53d9"
      },
      "execution_count": null,
      "outputs": [
        {
          "output_type": "stream",
          "name": "stdout",
          "text": [
            "1\n",
            "2\n",
            "3\n",
            "4\n",
            "5\n",
            "i is no longer less than 6\n"
          ]
        }
      ]
    },
    {
      "cell_type": "markdown",
      "source": [
        "## 2. The for Loop\n",
        "The for loop is used for iterating over a sequence (like a list, tuple, dictionary, set, or string).\n",
        "\n",
        "\n",
        "**Example:**\n",
        "\n",
        "Let's say we want to print each fruit in a list of fruits:"
      ],
      "metadata": {
        "id": "ACjBX37O_F43"
      }
    },
    {
      "cell_type": "code",
      "source": [
        "fruits = [\"apple\", \"banana\", \"cherry\"]\n",
        "for fruit in fruits:\n",
        "    print(fruit)"
      ],
      "metadata": {
        "colab": {
          "base_uri": "https://localhost:8080/"
        },
        "id": "XvuhRXYwUAoF",
        "outputId": "cca86d89-4501-4e7e-c68c-e586be6e208f"
      },
      "execution_count": null,
      "outputs": [
        {
          "output_type": "stream",
          "name": "stdout",
          "text": [
            "apple\n",
            "banana\n",
            "cherry\n"
          ]
        }
      ]
    },
    {
      "cell_type": "markdown",
      "source": [
        "**Using range():**\n",
        "\n",
        "The `range()` function is commonly used with `for` loops to generate a sequence of numbers.\n",
        "\n",
        "**Example:**\n",
        "\n",
        "Print numbers from 0 to 5:"
      ],
      "metadata": {
        "id": "JHB8RYVC_-co"
      }
    },
    {
      "cell_type": "code",
      "source": [
        "for i in range(6):\n",
        "    print(i)"
      ],
      "metadata": {
        "colab": {
          "base_uri": "https://localhost:8080/"
        },
        "id": "eskp2CwBUoef",
        "outputId": "620a1e0f-fee4-4bce-b0a5-b0bad9d2309b"
      },
      "execution_count": null,
      "outputs": [
        {
          "output_type": "stream",
          "name": "stdout",
          "text": [
            "0\n",
            "1\n",
            "2\n",
            "3\n",
            "4\n",
            "5\n"
          ]
        }
      ]
    },
    {
      "cell_type": "markdown",
      "source": [
        "You can also specify a start value and a step value:\n",
        "\n",
        "**Example:**\n",
        "\n",
        "Print even numbers from 2 to 10:"
      ],
      "metadata": {
        "id": "ll_u4GfTAX58"
      }
    },
    {
      "cell_type": "code",
      "source": [
        "for i in range(2, 11, 2):\n",
        "    print(i)\n",
        "\n",
        "#Here, range(2, 11, 2) generates numbers from 2 to 10, with a step of 2."
      ],
      "metadata": {
        "colab": {
          "base_uri": "https://localhost:8080/"
        },
        "id": "XAweIvrQU6TH",
        "outputId": "9f4d2286-f72a-40dc-9e66-322b90794614"
      },
      "execution_count": null,
      "outputs": [
        {
          "output_type": "stream",
          "name": "stdout",
          "text": [
            "2\n",
            "4\n",
            "6\n",
            "8\n",
            "10\n"
          ]
        }
      ]
    },
    {
      "cell_type": "code",
      "source": [
        "# print elements of list \"e\" using for loop\n",
        "for i in e:\n",
        "  print(i)"
      ],
      "metadata": {
        "colab": {
          "base_uri": "https://localhost:8080/"
        },
        "id": "sRpJv29cVP8W",
        "outputId": "6858342a-e306-403b-d932-dded44f160bd"
      },
      "execution_count": null,
      "outputs": [
        {
          "output_type": "stream",
          "name": "stdout",
          "text": [
            "1\n",
            "2\n",
            "3\n",
            "4\n",
            "5\n"
          ]
        }
      ]
    },
    {
      "cell_type": "markdown",
      "source": [
        "**Iterating Over a String**:\n",
        "\n",
        "You can use a for loop to iterate over each character in a string.\n",
        "\n",
        "**Example:**\n",
        "\n",
        "Print each character in the word \"banana\":"
      ],
      "metadata": {
        "id": "RrDLCR7LApW4"
      }
    },
    {
      "cell_type": "code",
      "source": [
        "for char in \"banana\":\n",
        "    print(char)\n",
        "#This loop will print each character in the string \"banana\"."
      ],
      "metadata": {
        "colab": {
          "base_uri": "https://localhost:8080/"
        },
        "id": "qyvYnRXMWHV-",
        "outputId": "9b1c3ad8-c7e1-4203-eb97-44b5ad0b3f41"
      },
      "execution_count": 30,
      "outputs": [
        {
          "output_type": "stream",
          "name": "stdout",
          "text": [
            "b\n",
            "a\n",
            "n\n",
            "a\n",
            "n\n",
            "a\n"
          ]
        }
      ]
    },
    {
      "cell_type": "markdown",
      "source": [
        "**The break Statement**:\n",
        "\n",
        "The `break` statement can be used to exit the loop before it has looped through all the items.\n",
        "\n",
        "**Example:**\n",
        "\n",
        "Stop the loop when the fruit is \"banana\":"
      ],
      "metadata": {
        "id": "6ob6Y-VHBLMA"
      }
    },
    {
      "cell_type": "code",
      "source": [
        "fruits = [\"apple\", \"banana\", \"cherry\"]\n",
        "for fruit in fruits:\n",
        "    if fruit == \"banana\":\n",
        "        break\n",
        "    print(fruit)\n",
        "#This loop will print \"apple\" and then stop when it encounters \"banana\"."
      ],
      "metadata": {
        "colab": {
          "base_uri": "https://localhost:8080/"
        },
        "id": "YGC5RhnyWXu2",
        "outputId": "473837b6-35cb-4dbc-fb7f-5d9aa3d1accf"
      },
      "execution_count": 31,
      "outputs": [
        {
          "output_type": "stream",
          "name": "stdout",
          "text": [
            "apple\n"
          ]
        }
      ]
    },
    {
      "cell_type": "markdown",
      "source": [
        "**The continue Statement**:\n",
        "\n",
        "The `continue` statement skips the current iteration and moves to the next one.\n",
        "\n",
        "**Example:**\n",
        "\n",
        "Skip \"banana\" and continue with the next fruit:"
      ],
      "metadata": {
        "id": "QYW91OsuBYYG"
      }
    },
    {
      "cell_type": "code",
      "source": [
        "fruits = [\"apple\", \"banana\", \"cherry\"]\n",
        "for fruit in fruits:\n",
        "    if fruit == \"banana\":\n",
        "        continue\n",
        "    print(fruit)\n",
        "#This loop will print \"apple\" and \"cherry\", skipping \"banana\"."
      ],
      "metadata": {
        "colab": {
          "base_uri": "https://localhost:8080/"
        },
        "id": "GG5YV0c-Wbim",
        "outputId": "9d712dc3-7cf4-4a6f-c3fb-88e8e69d6d50"
      },
      "execution_count": 32,
      "outputs": [
        {
          "output_type": "stream",
          "name": "stdout",
          "text": [
            "apple\n",
            "cherry\n"
          ]
        }
      ]
    },
    {
      "cell_type": "markdown",
      "source": [
        "**The else Statement**:\n",
        "\n",
        "The `else` statement in a `for` loop runs a block of code once when the loop is finished.\n",
        "\n",
        "**Example:**\n",
        "\n",
        "Print a message when the loop is done:"
      ],
      "metadata": {
        "id": "WCmR2StGBsc4"
      }
    },
    {
      "cell_type": "code",
      "source": [
        "for i in range(6):\n",
        "    print(i)\n",
        "else:\n",
        "    print(\"Loop is complete\")"
      ],
      "metadata": {
        "colab": {
          "base_uri": "https://localhost:8080/"
        },
        "id": "sdqzami2B5O_",
        "outputId": "35316bca-7c94-4724-e4f2-97f5e6c0a369"
      },
      "execution_count": 33,
      "outputs": [
        {
          "output_type": "stream",
          "name": "stdout",
          "text": [
            "0\n",
            "1\n",
            "2\n",
            "3\n",
            "4\n",
            "5\n",
            "Loop is complete\n"
          ]
        }
      ]
    },
    {
      "cell_type": "markdown",
      "source": [
        "**Nested Loops**:\n",
        "\n",
        "You can nest loops to perform more complex iterations.\n",
        "\n",
        "**Example:**\n",
        "\n",
        "Print each adjective for each fruit:"
      ],
      "metadata": {
        "id": "tatxjGSWB7gA"
      }
    },
    {
      "cell_type": "code",
      "source": [
        "adjectives = [\"red\", \"big\", \"tasty\"]\n",
        "fruits = [\"apple\", \"banana\", \"cherry\"]\n",
        "for adjective in adjectives:\n",
        "    for fruit in fruits:\n",
        "        print(adjective, fruit)"
      ],
      "metadata": {
        "colab": {
          "base_uri": "https://localhost:8080/"
        },
        "id": "YnByOWCKCDoH",
        "outputId": "fdb23f84-0862-44dd-f996-24e64816e48c"
      },
      "execution_count": 34,
      "outputs": [
        {
          "output_type": "stream",
          "name": "stdout",
          "text": [
            "red apple\n",
            "red banana\n",
            "red cherry\n",
            "big apple\n",
            "big banana\n",
            "big cherry\n",
            "tasty apple\n",
            "tasty banana\n",
            "tasty cherry\n"
          ]
        }
      ]
    }
  ]
}